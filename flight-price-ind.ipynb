{
 "cells": [
  {
   "cell_type": "code",
   "execution_count": 1,
   "metadata": {
    "_cell_guid": "b1076dfc-b9ad-4769-8c92-a6c4dae69d19",
    "_uuid": "8f2839f25d086af736a60e9eeb907d3b93b6e0e5",
    "execution": {
     "iopub.execute_input": "2020-11-19T07:13:53.698072Z",
     "iopub.status.busy": "2020-11-19T07:13:53.697335Z",
     "iopub.status.idle": "2020-11-19T07:13:53.702647Z",
     "shell.execute_reply": "2020-11-19T07:13:53.703751Z"
    },
    "papermill": {
     "duration": 0.050374,
     "end_time": "2020-11-19T07:13:53.703932",
     "exception": false,
     "start_time": "2020-11-19T07:13:53.653558",
     "status": "completed"
    },
    "tags": []
   },
   "outputs": [
    {
     "name": "stdout",
     "output_type": "stream",
     "text": [
      "/kaggle/input/flight-fare-prediction-mh/Data_Train.xlsx\n",
      "/kaggle/input/flight-fare-prediction-mh/Test_set.xlsx\n",
      "/kaggle/input/flight-fare-prediction-mh/Sample_submission.xlsx\n"
     ]
    }
   ],
   "source": [
    "# This Python 3 environment comes with many helpful analytics libraries installed\n",
    "# It is defined by the kaggle/python Docker image: https://github.com/kaggle/docker-python\n",
    "# For example, here's several helpful packages to load\n",
    "\n",
    "import numpy as np # linear algebra\n",
    "import pandas as pd # data processing, CSV file I/O (e.g. pd.read_csv)\n",
    "\n",
    "# Input data files are available in the read-only \"../input/\" directory\n",
    "# For example, running this (by clicking run or pressing Shift+Enter) will list all files under the input directory\n",
    "\n",
    "import os\n",
    "for dirname, _, filenames in os.walk('/kaggle/input'):\n",
    "    for filename in filenames:\n",
    "        print(os.path.join(dirname, filename))\n",
    "\n",
    "# You can write up to 20GB to the current directory (/kaggle/working/) that gets preserved as output when you create a version using \"Save & Run All\" \n",
    "# You can also write temporary files to /kaggle/temp/, but they won't be saved outside of the current session"
   ]
  },
  {
   "cell_type": "code",
   "execution_count": 2,
   "metadata": {
    "execution": {
     "iopub.execute_input": "2020-11-19T07:13:53.777724Z",
     "iopub.status.busy": "2020-11-19T07:13:53.776934Z",
     "iopub.status.idle": "2020-11-19T07:13:54.686984Z",
     "shell.execute_reply": "2020-11-19T07:13:54.686385Z"
    },
    "papermill": {
     "duration": 0.94867,
     "end_time": "2020-11-19T07:13:54.687150",
     "exception": false,
     "start_time": "2020-11-19T07:13:53.738480",
     "status": "completed"
    },
    "tags": []
   },
   "outputs": [],
   "source": [
    "# importing the libraries\n",
    "\n",
    "import numpy as np # linear algebra\n",
    "import pandas as pd # data processing, CSV file I/O (e.g. pd.read_csv)\n",
    "\n",
    "import matplotlib.pyplot as plt\n",
    "import seaborn as sns\n",
    "import datetime as dt"
   ]
  },
  {
   "cell_type": "code",
   "execution_count": 3,
   "metadata": {
    "execution": {
     "iopub.execute_input": "2020-11-19T07:13:54.758429Z",
     "iopub.status.busy": "2020-11-19T07:13:54.757645Z",
     "iopub.status.idle": "2020-11-19T07:13:56.675491Z",
     "shell.execute_reply": "2020-11-19T07:13:56.676006Z"
    },
    "papermill": {
     "duration": 1.956401,
     "end_time": "2020-11-19T07:13:56.676188",
     "exception": false,
     "start_time": "2020-11-19T07:13:54.719787",
     "status": "completed"
    },
    "tags": []
   },
   "outputs": [
    {
     "data": {
      "text/html": [
       "<div>\n",
       "<style scoped>\n",
       "    .dataframe tbody tr th:only-of-type {\n",
       "        vertical-align: middle;\n",
       "    }\n",
       "\n",
       "    .dataframe tbody tr th {\n",
       "        vertical-align: top;\n",
       "    }\n",
       "\n",
       "    .dataframe thead th {\n",
       "        text-align: right;\n",
       "    }\n",
       "</style>\n",
       "<table border=\"1\" class=\"dataframe\">\n",
       "  <thead>\n",
       "    <tr style=\"text-align: right;\">\n",
       "      <th></th>\n",
       "      <th>Airline</th>\n",
       "      <th>Date_of_Journey</th>\n",
       "      <th>Source</th>\n",
       "      <th>Destination</th>\n",
       "      <th>Route</th>\n",
       "      <th>Dep_Time</th>\n",
       "      <th>Arrival_Time</th>\n",
       "      <th>Duration</th>\n",
       "      <th>Total_Stops</th>\n",
       "      <th>Additional_Info</th>\n",
       "      <th>Price</th>\n",
       "    </tr>\n",
       "  </thead>\n",
       "  <tbody>\n",
       "    <tr>\n",
       "      <th>0</th>\n",
       "      <td>IndiGo</td>\n",
       "      <td>24/03/2019</td>\n",
       "      <td>Banglore</td>\n",
       "      <td>New Delhi</td>\n",
       "      <td>BLR → DEL</td>\n",
       "      <td>22:20</td>\n",
       "      <td>01:10 22 Mar</td>\n",
       "      <td>2h 50m</td>\n",
       "      <td>non-stop</td>\n",
       "      <td>No info</td>\n",
       "      <td>3897</td>\n",
       "    </tr>\n",
       "    <tr>\n",
       "      <th>1</th>\n",
       "      <td>Air India</td>\n",
       "      <td>1/05/2019</td>\n",
       "      <td>Kolkata</td>\n",
       "      <td>Banglore</td>\n",
       "      <td>CCU → IXR → BBI → BLR</td>\n",
       "      <td>05:50</td>\n",
       "      <td>13:15</td>\n",
       "      <td>7h 25m</td>\n",
       "      <td>2 stops</td>\n",
       "      <td>No info</td>\n",
       "      <td>7662</td>\n",
       "    </tr>\n",
       "    <tr>\n",
       "      <th>2</th>\n",
       "      <td>Jet Airways</td>\n",
       "      <td>9/06/2019</td>\n",
       "      <td>Delhi</td>\n",
       "      <td>Cochin</td>\n",
       "      <td>DEL → LKO → BOM → COK</td>\n",
       "      <td>09:25</td>\n",
       "      <td>04:25 10 Jun</td>\n",
       "      <td>19h</td>\n",
       "      <td>2 stops</td>\n",
       "      <td>No info</td>\n",
       "      <td>13882</td>\n",
       "    </tr>\n",
       "    <tr>\n",
       "      <th>3</th>\n",
       "      <td>IndiGo</td>\n",
       "      <td>12/05/2019</td>\n",
       "      <td>Kolkata</td>\n",
       "      <td>Banglore</td>\n",
       "      <td>CCU → NAG → BLR</td>\n",
       "      <td>18:05</td>\n",
       "      <td>23:30</td>\n",
       "      <td>5h 25m</td>\n",
       "      <td>1 stop</td>\n",
       "      <td>No info</td>\n",
       "      <td>6218</td>\n",
       "    </tr>\n",
       "    <tr>\n",
       "      <th>4</th>\n",
       "      <td>IndiGo</td>\n",
       "      <td>01/03/2019</td>\n",
       "      <td>Banglore</td>\n",
       "      <td>New Delhi</td>\n",
       "      <td>BLR → NAG → DEL</td>\n",
       "      <td>16:50</td>\n",
       "      <td>21:35</td>\n",
       "      <td>4h 45m</td>\n",
       "      <td>1 stop</td>\n",
       "      <td>No info</td>\n",
       "      <td>13302</td>\n",
       "    </tr>\n",
       "  </tbody>\n",
       "</table>\n",
       "</div>"
      ],
      "text/plain": [
       "       Airline Date_of_Journey    Source Destination                  Route  \\\n",
       "0       IndiGo      24/03/2019  Banglore   New Delhi              BLR → DEL   \n",
       "1    Air India       1/05/2019   Kolkata    Banglore  CCU → IXR → BBI → BLR   \n",
       "2  Jet Airways       9/06/2019     Delhi      Cochin  DEL → LKO → BOM → COK   \n",
       "3       IndiGo      12/05/2019   Kolkata    Banglore        CCU → NAG → BLR   \n",
       "4       IndiGo      01/03/2019  Banglore   New Delhi        BLR → NAG → DEL   \n",
       "\n",
       "  Dep_Time  Arrival_Time Duration Total_Stops Additional_Info  Price  \n",
       "0    22:20  01:10 22 Mar   2h 50m    non-stop         No info   3897  \n",
       "1    05:50         13:15   7h 25m     2 stops         No info   7662  \n",
       "2    09:25  04:25 10 Jun      19h     2 stops         No info  13882  \n",
       "3    18:05         23:30   5h 25m      1 stop         No info   6218  \n",
       "4    16:50         21:35   4h 45m      1 stop         No info  13302  "
      ]
     },
     "execution_count": 3,
     "metadata": {},
     "output_type": "execute_result"
    }
   ],
   "source": [
    "# load the file\n",
    "\n",
    "tr = pd.read_excel('../input/flight-fare-prediction-mh/Data_Train.xlsx')\n",
    "tr.head()"
   ]
  },
  {
   "cell_type": "code",
   "execution_count": 4,
   "metadata": {
    "execution": {
     "iopub.execute_input": "2020-11-19T07:13:56.761750Z",
     "iopub.status.busy": "2020-11-19T07:13:56.761068Z",
     "iopub.status.idle": "2020-11-19T07:13:56.774867Z",
     "shell.execute_reply": "2020-11-19T07:13:56.773701Z"
    },
    "papermill": {
     "duration": 0.058536,
     "end_time": "2020-11-19T07:13:56.775025",
     "exception": false,
     "start_time": "2020-11-19T07:13:56.716489",
     "status": "completed"
    },
    "tags": []
   },
   "outputs": [
    {
     "name": "stdout",
     "output_type": "stream",
     "text": [
      "<class 'pandas.core.frame.DataFrame'>\n",
      "RangeIndex: 10683 entries, 0 to 10682\n",
      "Data columns (total 11 columns):\n",
      " #   Column           Non-Null Count  Dtype \n",
      "---  ------           --------------  ----- \n",
      " 0   Airline          10683 non-null  object\n",
      " 1   Date_of_Journey  10683 non-null  object\n",
      " 2   Source           10683 non-null  object\n",
      " 3   Destination      10683 non-null  object\n",
      " 4   Route            10682 non-null  object\n",
      " 5   Dep_Time         10683 non-null  object\n",
      " 6   Arrival_Time     10683 non-null  object\n",
      " 7   Duration         10683 non-null  object\n",
      " 8   Total_Stops      10682 non-null  object\n",
      " 9   Additional_Info  10683 non-null  object\n",
      " 10  Price            10683 non-null  int64 \n",
      "dtypes: int64(1), object(10)\n",
      "memory usage: 918.2+ KB\n"
     ]
    }
   ],
   "source": [
    "tr.info()"
   ]
  },
  {
   "cell_type": "code",
   "execution_count": 5,
   "metadata": {
    "execution": {
     "iopub.execute_input": "2020-11-19T07:13:56.851860Z",
     "iopub.status.busy": "2020-11-19T07:13:56.850913Z",
     "iopub.status.idle": "2020-11-19T07:13:56.859811Z",
     "shell.execute_reply": "2020-11-19T07:13:56.859157Z"
    },
    "papermill": {
     "duration": 0.049253,
     "end_time": "2020-11-19T07:13:56.859938",
     "exception": false,
     "start_time": "2020-11-19T07:13:56.810685",
     "status": "completed"
    },
    "tags": []
   },
   "outputs": [
    {
     "name": "stdout",
     "output_type": "stream",
     "text": [
      "['IndiGo' 'Air India' 'Jet Airways' 'SpiceJet' 'Multiple carriers' 'GoAir'\n",
      " 'Vistara' 'Air Asia' 'Vistara Premium economy' 'Jet Airways Business'\n",
      " 'Multiple carriers Premium economy' 'Trujet']\n",
      " = = = = = = = = = = = = = = = = = = = = = = = =\n",
      "['Banglore' 'Kolkata' 'Delhi' 'Chennai' 'Mumbai']\n",
      " = = = = = = = = = = = = = = = = = = = = = = = =\n",
      "['New Delhi' 'Banglore' 'Cochin' 'Kolkata' 'Delhi' 'Hyderabad']\n",
      " = = = = = = = = = = = = = = = = = = = = = = = =\n",
      "['No info' 'In-flight meal not included' 'No check-in baggage included'\n",
      " '1 Short layover' 'No Info' '1 Long layover' 'Change airports'\n",
      " 'Business class' 'Red-eye flight' '2 Long layover']\n"
     ]
    }
   ],
   "source": [
    "print(tr.Airline.unique())\n",
    "print(' = = = = = = = = = = = = = = = = = = = = = = = =')\n",
    "print(tr.Source.unique())\n",
    "print(' = = = = = = = = = = = = = = = = = = = = = = = =')\n",
    "print(tr.Destination.unique())\n",
    "print(' = = = = = = = = = = = = = = = = = = = = = = = =')\n",
    "print(tr.Additional_Info.unique())"
   ]
  },
  {
   "cell_type": "code",
   "execution_count": 6,
   "metadata": {
    "execution": {
     "iopub.execute_input": "2020-11-19T07:13:56.937186Z",
     "iopub.status.busy": "2020-11-19T07:13:56.936500Z",
     "iopub.status.idle": "2020-11-19T07:13:56.943338Z",
     "shell.execute_reply": "2020-11-19T07:13:56.942683Z"
    },
    "papermill": {
     "duration": 0.049779,
     "end_time": "2020-11-19T07:13:56.943497",
     "exception": false,
     "start_time": "2020-11-19T07:13:56.893718",
     "status": "completed"
    },
    "tags": []
   },
   "outputs": [
    {
     "data": {
      "text/plain": [
       "Airline            0\n",
       "Date_of_Journey    0\n",
       "Source             0\n",
       "Destination        0\n",
       "Route              1\n",
       "Dep_Time           0\n",
       "Arrival_Time       0\n",
       "Duration           0\n",
       "Total_Stops        1\n",
       "Additional_Info    0\n",
       "Price              0\n",
       "dtype: int64"
      ]
     },
     "execution_count": 6,
     "metadata": {},
     "output_type": "execute_result"
    }
   ],
   "source": [
    "#Let us find the missing values\n",
    "# and drop them if present\n",
    "tr.isnull().sum()"
   ]
  },
  {
   "cell_type": "code",
   "execution_count": 7,
   "metadata": {
    "execution": {
     "iopub.execute_input": "2020-11-19T07:13:57.022507Z",
     "iopub.status.busy": "2020-11-19T07:13:57.021743Z",
     "iopub.status.idle": "2020-11-19T07:13:57.045794Z",
     "shell.execute_reply": "2020-11-19T07:13:57.046292Z"
    },
    "papermill": {
     "duration": 0.068604,
     "end_time": "2020-11-19T07:13:57.046454",
     "exception": false,
     "start_time": "2020-11-19T07:13:56.977850",
     "status": "completed"
    },
    "tags": []
   },
   "outputs": [],
   "source": [
    "tr.dropna(inplace = True)"
   ]
  },
  {
   "cell_type": "code",
   "execution_count": 8,
   "metadata": {
    "execution": {
     "iopub.execute_input": "2020-11-19T07:13:57.121995Z",
     "iopub.status.busy": "2020-11-19T07:13:57.121029Z",
     "iopub.status.idle": "2020-11-19T07:13:57.125113Z",
     "shell.execute_reply": "2020-11-19T07:13:57.125597Z"
    },
    "papermill": {
     "duration": 0.044637,
     "end_time": "2020-11-19T07:13:57.125742",
     "exception": false,
     "start_time": "2020-11-19T07:13:57.081105",
     "status": "completed"
    },
    "tags": []
   },
   "outputs": [
    {
     "data": {
      "text/plain": [
       "Airline            object\n",
       "Date_of_Journey    object\n",
       "Source             object\n",
       "Destination        object\n",
       "Route              object\n",
       "Dep_Time           object\n",
       "Arrival_Time       object\n",
       "Duration           object\n",
       "Total_Stops        object\n",
       "Additional_Info    object\n",
       "Price               int64\n",
       "dtype: object"
      ]
     },
     "execution_count": 8,
     "metadata": {},
     "output_type": "execute_result"
    }
   ],
   "source": [
    "tr.dtypes"
   ]
  },
  {
   "cell_type": "code",
   "execution_count": 9,
   "metadata": {
    "execution": {
     "iopub.execute_input": "2020-11-19T07:13:57.213518Z",
     "iopub.status.busy": "2020-11-19T07:13:57.212671Z",
     "iopub.status.idle": "2020-11-19T07:13:57.217469Z",
     "shell.execute_reply": "2020-11-19T07:13:57.216812Z"
    },
    "papermill": {
     "duration": 0.056315,
     "end_time": "2020-11-19T07:13:57.217591",
     "exception": false,
     "start_time": "2020-11-19T07:13:57.161276",
     "status": "completed"
    },
    "tags": []
   },
   "outputs": [
    {
     "data": {
      "text/html": [
       "<div>\n",
       "<style scoped>\n",
       "    .dataframe tbody tr th:only-of-type {\n",
       "        vertical-align: middle;\n",
       "    }\n",
       "\n",
       "    .dataframe tbody tr th {\n",
       "        vertical-align: top;\n",
       "    }\n",
       "\n",
       "    .dataframe thead th {\n",
       "        text-align: right;\n",
       "    }\n",
       "</style>\n",
       "<table border=\"1\" class=\"dataframe\">\n",
       "  <thead>\n",
       "    <tr style=\"text-align: right;\">\n",
       "      <th></th>\n",
       "      <th>Airline</th>\n",
       "      <th>Date_of_Journey</th>\n",
       "      <th>Source</th>\n",
       "      <th>Destination</th>\n",
       "      <th>Route</th>\n",
       "      <th>Dep_Time</th>\n",
       "      <th>Arrival_Time</th>\n",
       "      <th>Duration</th>\n",
       "      <th>Total_Stops</th>\n",
       "      <th>Additional_Info</th>\n",
       "      <th>Price</th>\n",
       "    </tr>\n",
       "  </thead>\n",
       "  <tbody>\n",
       "    <tr>\n",
       "      <th>0</th>\n",
       "      <td>IndiGo</td>\n",
       "      <td>24/03/2019</td>\n",
       "      <td>Banglore</td>\n",
       "      <td>New Delhi</td>\n",
       "      <td>BLR → DEL</td>\n",
       "      <td>22:20</td>\n",
       "      <td>01:10 22 Mar</td>\n",
       "      <td>2h 50m</td>\n",
       "      <td>non-stop</td>\n",
       "      <td>No info</td>\n",
       "      <td>3897</td>\n",
       "    </tr>\n",
       "    <tr>\n",
       "      <th>1</th>\n",
       "      <td>Air India</td>\n",
       "      <td>1/05/2019</td>\n",
       "      <td>Kolkata</td>\n",
       "      <td>Banglore</td>\n",
       "      <td>CCU → IXR → BBI → BLR</td>\n",
       "      <td>05:50</td>\n",
       "      <td>13:15</td>\n",
       "      <td>7h 25m</td>\n",
       "      <td>2 stops</td>\n",
       "      <td>No info</td>\n",
       "      <td>7662</td>\n",
       "    </tr>\n",
       "    <tr>\n",
       "      <th>2</th>\n",
       "      <td>Jet Airways</td>\n",
       "      <td>9/06/2019</td>\n",
       "      <td>Delhi</td>\n",
       "      <td>Cochin</td>\n",
       "      <td>DEL → LKO → BOM → COK</td>\n",
       "      <td>09:25</td>\n",
       "      <td>04:25 10 Jun</td>\n",
       "      <td>19h</td>\n",
       "      <td>2 stops</td>\n",
       "      <td>No info</td>\n",
       "      <td>13882</td>\n",
       "    </tr>\n",
       "    <tr>\n",
       "      <th>3</th>\n",
       "      <td>IndiGo</td>\n",
       "      <td>12/05/2019</td>\n",
       "      <td>Kolkata</td>\n",
       "      <td>Banglore</td>\n",
       "      <td>CCU → NAG → BLR</td>\n",
       "      <td>18:05</td>\n",
       "      <td>23:30</td>\n",
       "      <td>5h 25m</td>\n",
       "      <td>1 stop</td>\n",
       "      <td>No info</td>\n",
       "      <td>6218</td>\n",
       "    </tr>\n",
       "    <tr>\n",
       "      <th>4</th>\n",
       "      <td>IndiGo</td>\n",
       "      <td>01/03/2019</td>\n",
       "      <td>Banglore</td>\n",
       "      <td>New Delhi</td>\n",
       "      <td>BLR → NAG → DEL</td>\n",
       "      <td>16:50</td>\n",
       "      <td>21:35</td>\n",
       "      <td>4h 45m</td>\n",
       "      <td>1 stop</td>\n",
       "      <td>No info</td>\n",
       "      <td>13302</td>\n",
       "    </tr>\n",
       "  </tbody>\n",
       "</table>\n",
       "</div>"
      ],
      "text/plain": [
       "       Airline Date_of_Journey    Source Destination                  Route  \\\n",
       "0       IndiGo      24/03/2019  Banglore   New Delhi              BLR → DEL   \n",
       "1    Air India       1/05/2019   Kolkata    Banglore  CCU → IXR → BBI → BLR   \n",
       "2  Jet Airways       9/06/2019     Delhi      Cochin  DEL → LKO → BOM → COK   \n",
       "3       IndiGo      12/05/2019   Kolkata    Banglore        CCU → NAG → BLR   \n",
       "4       IndiGo      01/03/2019  Banglore   New Delhi        BLR → NAG → DEL   \n",
       "\n",
       "  Dep_Time  Arrival_Time Duration Total_Stops Additional_Info  Price  \n",
       "0    22:20  01:10 22 Mar   2h 50m    non-stop         No info   3897  \n",
       "1    05:50         13:15   7h 25m     2 stops         No info   7662  \n",
       "2    09:25  04:25 10 Jun      19h     2 stops         No info  13882  \n",
       "3    18:05         23:30   5h 25m      1 stop         No info   6218  \n",
       "4    16:50         21:35   4h 45m      1 stop         No info  13302  "
      ]
     },
     "execution_count": 9,
     "metadata": {},
     "output_type": "execute_result"
    }
   ],
   "source": [
    "tr.head()"
   ]
  },
  {
   "cell_type": "code",
   "execution_count": 10,
   "metadata": {
    "execution": {
     "iopub.execute_input": "2020-11-19T07:13:57.302407Z",
     "iopub.status.busy": "2020-11-19T07:13:57.301390Z",
     "iopub.status.idle": "2020-11-19T07:13:57.600808Z",
     "shell.execute_reply": "2020-11-19T07:13:57.600224Z"
    },
    "papermill": {
     "duration": 0.347228,
     "end_time": "2020-11-19T07:13:57.600924",
     "exception": false,
     "start_time": "2020-11-19T07:13:57.253696",
     "status": "completed"
    },
    "tags": []
   },
   "outputs": [
    {
     "data": {
      "image/png": "[encoded data removed]",
      "text/plain": [
       "<Figure size 864x720 with 1 Axes>"
      ]
     },
     "metadata": {
      "needs_background": "light"
     },
     "output_type": "display_data"
    }
   ],
   "source": [
    "plt.figure(figsize = (12, 10))\n",
    "plt.title('Count of flights of different Airlines')\n",
    "ax=sns.countplot(x = 'Airline', data =tr)\n",
    "plt.xlabel('Airline')\n",
    "plt.ylabel('Count of flights')\n",
    "plt.xticks(rotation = 90)\n",
    "for p in ax.patches:\n",
    "    ax.annotate(int(p.get_height()), (p.get_x()+0.25, p.get_height()+1), va='bottom',\n",
    "                    color= 'black')"
   ]
  },
  {
   "cell_type": "code",
   "execution_count": 11,
   "metadata": {
    "execution": {
     "iopub.execute_input": "2020-11-19T07:13:57.679606Z",
     "iopub.status.busy": "2020-11-19T07:13:57.678682Z",
     "iopub.status.idle": "2020-11-19T07:13:57.925190Z",
     "shell.execute_reply": "2020-11-19T07:13:57.924654Z"
    },
    "papermill": {
     "duration": 0.288375,
     "end_time": "2020-11-19T07:13:57.925309",
     "exception": false,
     "start_time": "2020-11-19T07:13:57.636934",
     "status": "completed"
    },
    "tags": []
   },
   "outputs": [
    {
     "data": {
      "text/plain": [
       "([0, 1, 2, 3, 4, 5, 6, 7, 8, 9, 10, 11],\n",
       " <a list of 12 Text major ticklabel objects>)"
      ]
     },
     "execution_count": 11,
     "metadata": {},
     "output_type": "execute_result"
    },
    {
     "data": {
      "image/png": "[encoded data removed]",
      "text/plain": [
       "<Figure size 864x720 with 1 Axes>"
      ]
     },
     "metadata": {
      "needs_background": "light"
     },
     "output_type": "display_data"
    }
   ],
   "source": [
    "plt.figure(figsize = (12, 10))\n",
    "plt.title('Price Vs Airlines')\n",
    "plt.scatter(tr['Airline'], tr['Price'])\n",
    "plt.xticks(rotation = 90)\n",
    "plt.xlabel('Airline')\n",
    "plt.ylabel('Price of ticket')\n",
    "plt.xticks(rotation = 90)"
   ]
  },
  {
   "cell_type": "code",
   "execution_count": 12,
   "metadata": {
    "execution": {
     "iopub.execute_input": "2020-11-19T07:13:58.012488Z",
     "iopub.status.busy": "2020-11-19T07:13:58.011803Z",
     "iopub.status.idle": "2020-11-19T07:13:58.014857Z",
     "shell.execute_reply": "2020-11-19T07:13:58.014210Z"
    },
    "papermill": {
     "duration": 0.051615,
     "end_time": "2020-11-19T07:13:58.014974",
     "exception": false,
     "start_time": "2020-11-19T07:13:57.963359",
     "status": "completed"
    },
    "tags": []
   },
   "outputs": [],
   "source": [
    "tr['SrcDst']=tr['Source'].astype(str)+'-'+tr['Destination']"
   ]
  },
  {
   "cell_type": "code",
   "execution_count": 13,
   "metadata": {
    "execution": {
     "iopub.execute_input": "2020-11-19T07:13:58.108862Z",
     "iopub.status.busy": "2020-11-19T07:13:58.106884Z",
     "iopub.status.idle": "2020-11-19T07:13:58.297242Z",
     "shell.execute_reply": "2020-11-19T07:13:58.296656Z"
    },
    "papermill": {
     "duration": 0.242152,
     "end_time": "2020-11-19T07:13:58.297368",
     "exception": false,
     "start_time": "2020-11-19T07:13:58.055216",
     "status": "completed"
    },
    "tags": []
   },
   "outputs": [
    {
     "data": {
      "text/plain": [
       "([0, 1, 2, 3, 4, 5], <a list of 6 Text major ticklabel objects>)"
      ]
     },
     "execution_count": 13,
     "metadata": {},
     "output_type": "execute_result"
    },
    {
     "data": {
      "image/png": "[encoded data removed]",
      "text/plain": [
       "<Figure size 864x720 with 1 Axes>"
      ]
     },
     "metadata": {
      "needs_background": "light"
     },
     "output_type": "display_data"
    }
   ],
   "source": [
    "plt.figure(figsize = (12, 10))\n",
    "plt.title('Price VS Source-Destination')\n",
    "plt.scatter(tr['SrcDst'], tr['Price'])\n",
    "plt.xticks(rotation = 90)\n",
    "plt.xlabel('Source - Destination')\n",
    "plt.ylabel('Price of ticket')\n",
    "plt.xticks(rotation = 90)"
   ]
  },
  {
   "cell_type": "code",
   "execution_count": 14,
   "metadata": {
    "execution": {
     "iopub.execute_input": "2020-11-19T07:13:58.432295Z",
     "iopub.status.busy": "2020-11-19T07:13:58.431287Z",
     "iopub.status.idle": "2020-11-19T07:13:58.433118Z",
     "shell.execute_reply": "2020-11-19T07:13:58.433631Z"
    },
    "papermill": {
     "duration": 0.07413,
     "end_time": "2020-11-19T07:13:58.433783",
     "exception": false,
     "start_time": "2020-11-19T07:13:58.359653",
     "status": "completed"
    },
    "tags": []
   },
   "outputs": [],
   "source": [
    "del tr['SrcDst']"
   ]
  },
  {
   "cell_type": "markdown",
   "metadata": {
    "papermill": {
     "duration": 0.043916,
     "end_time": "2020-11-19T07:13:58.542457",
     "exception": false,
     "start_time": "2020-11-19T07:13:58.498541",
     "status": "completed"
    },
    "tags": []
   },
   "source": [
    "We will extract date and month from the 'Date_of_Journey' column and make separate columns, also we will extract hour and minutes from 'Dep_Time' and make separate columns.\n",
    "\n",
    "For that, we need to convert both the columns from object type to datetime type first."
   ]
  },
  {
   "cell_type": "code",
   "execution_count": 15,
   "metadata": {
    "execution": {
     "iopub.execute_input": "2020-11-19T07:13:58.633034Z",
     "iopub.status.busy": "2020-11-19T07:13:58.628477Z",
     "iopub.status.idle": "2020-11-19T07:13:58.638642Z",
     "shell.execute_reply": "2020-11-19T07:13:58.638107Z"
    },
    "papermill": {
     "duration": 0.056221,
     "end_time": "2020-11-19T07:13:58.638767",
     "exception": false,
     "start_time": "2020-11-19T07:13:58.582546",
     "status": "completed"
    },
    "tags": []
   },
   "outputs": [],
   "source": [
    "# converting the Date_of_Journey to datetime\n",
    "\n",
    "tr[\"Date_of_Journey\"] = pd.to_datetime(tr.Date_of_Journey, format=\"%d/%m/%Y\")"
   ]
  },
  {
   "cell_type": "code",
   "execution_count": 16,
   "metadata": {
    "execution": {
     "iopub.execute_input": "2020-11-19T07:13:58.738372Z",
     "iopub.status.busy": "2020-11-19T07:13:58.736994Z",
     "iopub.status.idle": "2020-11-19T07:13:58.757953Z",
     "shell.execute_reply": "2020-11-19T07:13:58.757361Z"
    },
    "papermill": {
     "duration": 0.079116,
     "end_time": "2020-11-19T07:13:58.758091",
     "exception": false,
     "start_time": "2020-11-19T07:13:58.678975",
     "status": "completed"
    },
    "tags": []
   },
   "outputs": [],
   "source": [
    "# Extracting day and month from the column\n",
    "\n",
    "tr[\"Journey_Day\"] = pd.to_datetime(tr.Date_of_Journey, format=\"%d/%m/%Y\").dt.day\n",
    "\n",
    "tr[\"Journey_Month\"] = pd.to_datetime(tr.Date_of_Journey, format=\"%d/%m/%Y\").dt.month"
   ]
  },
  {
   "cell_type": "code",
   "execution_count": 17,
   "metadata": {
    "execution": {
     "iopub.execute_input": "2020-11-19T07:13:58.850687Z",
     "iopub.status.busy": "2020-11-19T07:13:58.845844Z",
     "iopub.status.idle": "2020-11-19T07:13:59.004215Z",
     "shell.execute_reply": "2020-11-19T07:13:59.003581Z"
    },
    "papermill": {
     "duration": 0.206653,
     "end_time": "2020-11-19T07:13:59.004330",
     "exception": false,
     "start_time": "2020-11-19T07:13:58.797677",
     "status": "completed"
    },
    "tags": []
   },
   "outputs": [
    {
     "data": {
      "image/png": "[encoded data removed]",
      "text/plain": [
       "<Figure size 864x720 with 1 Axes>"
      ]
     },
     "metadata": {
      "needs_background": "light"
     },
     "output_type": "display_data"
    }
   ],
   "source": [
    "plt.figure(figsize = (12, 10))\n",
    "plt.title('Count of flights month wise')\n",
    "ax=sns.countplot(x = 'Journey_Month', data = tr)\n",
    "plt.xlabel('Month')\n",
    "plt.ylabel('Count of flights')\n",
    "for p in ax.patches:\n",
    "    ax.annotate(int(p.get_height()), (p.get_x()+0.25, p.get_height()+1), va='bottom',\n",
    "                    color= 'black')"
   ]
  },
  {
   "cell_type": "code",
   "execution_count": 18,
   "metadata": {
    "execution": {
     "iopub.execute_input": "2020-11-19T07:13:59.095504Z",
     "iopub.status.busy": "2020-11-19T07:13:59.094477Z",
     "iopub.status.idle": "2020-11-19T07:13:59.098072Z",
     "shell.execute_reply": "2020-11-19T07:13:59.097546Z"
    },
    "papermill": {
     "duration": 0.053883,
     "end_time": "2020-11-19T07:13:59.098210",
     "exception": false,
     "start_time": "2020-11-19T07:13:59.044327",
     "status": "completed"
    },
    "tags": []
   },
   "outputs": [],
   "source": [
    "# putting days of week for the respective dates, since flight price might change according to the weekdays/weekends\n",
    "\n",
    "tr['Journey_Day_DOW'] = tr['Date_of_Journey'].dt.day_name()"
   ]
  },
  {
   "cell_type": "code",
   "execution_count": 19,
   "metadata": {
    "execution": {
     "iopub.execute_input": "2020-11-19T07:13:59.189613Z",
     "iopub.status.busy": "2020-11-19T07:13:59.188522Z",
     "iopub.status.idle": "2020-11-19T07:13:59.196567Z",
     "shell.execute_reply": "2020-11-19T07:13:59.195925Z"
    },
    "papermill": {
     "duration": 0.05713,
     "end_time": "2020-11-19T07:13:59.196679",
     "exception": false,
     "start_time": "2020-11-19T07:13:59.139549",
     "status": "completed"
    },
    "tags": []
   },
   "outputs": [],
   "source": [
    "cats = ['Monday', 'Tuesday', 'Wednesday', 'Thursday', 'Friday', 'Saturday', 'Sunday']\n",
    "tr['Journey_Day_DOW'] = pd.Categorical(tr['Journey_Day_DOW'], categories=cats, ordered=True)\n",
    "tr = tr.sort_values('Journey_Day_DOW')"
   ]
  },
  {
   "cell_type": "code",
   "execution_count": 20,
   "metadata": {
    "execution": {
     "iopub.execute_input": "2020-11-19T07:13:59.291790Z",
     "iopub.status.busy": "2020-11-19T07:13:59.291113Z",
     "iopub.status.idle": "2020-11-19T07:13:59.484879Z",
     "shell.execute_reply": "2020-11-19T07:13:59.484258Z"
    },
    "papermill": {
     "duration": 0.246542,
     "end_time": "2020-11-19T07:13:59.484999",
     "exception": false,
     "start_time": "2020-11-19T07:13:59.238457",
     "status": "completed"
    },
    "tags": []
   },
   "outputs": [
    {
     "data": {
      "image/png": "[encoded data removed]",
      "text/plain": [
       "<Figure size 864x720 with 1 Axes>"
      ]
     },
     "metadata": {
      "needs_background": "light"
     },
     "output_type": "display_data"
    }
   ],
   "source": [
    "plt.figure(figsize = (12, 10))\n",
    "plt.title('Count of flights - Days of Week')\n",
    "ax=sns.countplot(x = 'Journey_Day_DOW', data = tr)\n",
    "plt.xlabel('Day of Week')\n",
    "plt.ylabel('Count of flights')\n",
    "for p in ax.patches:\n",
    "    ax.annotate(int(p.get_height()), (p.get_x()+0.25, p.get_height()+1), va='bottom',\n",
    "                    color= 'black')"
   ]
  },
  {
   "cell_type": "code",
   "execution_count": 21,
   "metadata": {
    "execution": {
     "iopub.execute_input": "2020-11-19T07:13:59.582130Z",
     "iopub.status.busy": "2020-11-19T07:13:59.581217Z",
     "iopub.status.idle": "2020-11-19T07:13:59.585408Z",
     "shell.execute_reply": "2020-11-19T07:13:59.584883Z"
    },
    "papermill": {
     "duration": 0.058205,
     "end_time": "2020-11-19T07:13:59.585521",
     "exception": false,
     "start_time": "2020-11-19T07:13:59.527316",
     "status": "completed"
    },
    "tags": []
   },
   "outputs": [],
   "source": [
    "# replacing the Total Stops value to look more clean\n",
    "\n",
    "tr['Total_Stops'] = tr['Total_Stops'].replace(['non-stop','1 stop','2 stops','3 stops','4 stops'], [0,1,2,3,4])"
   ]
  },
  {
   "cell_type": "code",
   "execution_count": 22,
   "metadata": {
    "execution": {
     "iopub.execute_input": "2020-11-19T07:13:59.677837Z",
     "iopub.status.busy": "2020-11-19T07:13:59.677068Z",
     "iopub.status.idle": "2020-11-19T07:13:59.931706Z",
     "shell.execute_reply": "2020-11-19T07:13:59.931034Z"
    },
    "papermill": {
     "duration": 0.303219,
     "end_time": "2020-11-19T07:13:59.931816",
     "exception": false,
     "start_time": "2020-11-19T07:13:59.628597",
     "status": "completed"
    },
    "tags": []
   },
   "outputs": [
    {
     "data": {
      "image/png": "[encoded data removed]",
      "text/plain": [
       "<Figure size 864x720 with 1 Axes>"
      ]
     },
     "metadata": {
      "needs_background": "light"
     },
     "output_type": "display_data"
    }
   ],
   "source": [
    "plt.figure(figsize = (12, 10))\n",
    "plt.title('Count of flights with in between stops')\n",
    "ax=sns.countplot(x = 'Total_Stops', data = tr)\n",
    "plt.xlabel('In Between Stops')\n",
    "plt.ylabel('Count of flights')\n",
    "for p in ax.patches:\n",
    "    ax.annotate(int(p.get_height()), (p.get_x()+0.25, p.get_height()+1), va='bottom',\n",
    "                    color= 'black')"
   ]
  },
  {
   "cell_type": "code",
   "execution_count": 23,
   "metadata": {
    "execution": {
     "iopub.execute_input": "2020-11-19T07:14:00.026800Z",
     "iopub.status.busy": "2020-11-19T07:14:00.025762Z",
     "iopub.status.idle": "2020-11-19T07:14:00.235933Z",
     "shell.execute_reply": "2020-11-19T07:14:00.235351Z"
    },
    "papermill": {
     "duration": 0.26041,
     "end_time": "2020-11-19T07:14:00.236050",
     "exception": false,
     "start_time": "2020-11-19T07:13:59.975640",
     "status": "completed"
    },
    "tags": []
   },
   "outputs": [
    {
     "data": {
      "text/plain": [
       "(array([-0.5,  0. ,  0.5,  1. ,  1.5,  2. ,  2.5,  3. ,  3.5,  4. ,  4.5]),\n",
       " <a list of 11 Text major ticklabel objects>)"
      ]
     },
     "execution_count": 23,
     "metadata": {},
     "output_type": "execute_result"
    },
    {
     "data": {
      "image/png": "[encoded data removed]",
      "text/plain": [
       "<Figure size 864x720 with 1 Axes>"
      ]
     },
     "metadata": {
      "needs_background": "light"
     },
     "output_type": "display_data"
    }
   ],
   "source": [
    "plt.figure(figsize = (12, 10))\n",
    "plt.title('Price Vs No. of stops')\n",
    "plt.scatter(tr['Total_Stops'], tr['Price'])\n",
    "plt.xticks(rotation = 90)\n",
    "plt.xlabel('In between stops')\n",
    "plt.ylabel('Price of ticket')\n",
    "plt.xticks(rotation = 90)"
   ]
  },
  {
   "cell_type": "code",
   "execution_count": 24,
   "metadata": {
    "execution": {
     "iopub.execute_input": "2020-11-19T07:14:00.345639Z",
     "iopub.status.busy": "2020-11-19T07:14:00.344875Z",
     "iopub.status.idle": "2020-11-19T07:14:00.348934Z",
     "shell.execute_reply": "2020-11-19T07:14:00.348313Z"
    },
    "papermill": {
     "duration": 0.067291,
     "end_time": "2020-11-19T07:14:00.349046",
     "exception": false,
     "start_time": "2020-11-19T07:14:00.281755",
     "status": "completed"
    },
    "tags": []
   },
   "outputs": [
    {
     "data": {
      "text/html": [
       "<div>\n",
       "<style scoped>\n",
       "    .dataframe tbody tr th:only-of-type {\n",
       "        vertical-align: middle;\n",
       "    }\n",
       "\n",
       "    .dataframe tbody tr th {\n",
       "        vertical-align: top;\n",
       "    }\n",
       "\n",
       "    .dataframe thead th {\n",
       "        text-align: right;\n",
       "    }\n",
       "</style>\n",
       "<table border=\"1\" class=\"dataframe\">\n",
       "  <thead>\n",
       "    <tr style=\"text-align: right;\">\n",
       "      <th></th>\n",
       "      <th>Airline</th>\n",
       "      <th>Date_of_Journey</th>\n",
       "      <th>Source</th>\n",
       "      <th>Destination</th>\n",
       "      <th>Route</th>\n",
       "      <th>Dep_Time</th>\n",
       "      <th>Arrival_Time</th>\n",
       "      <th>Duration</th>\n",
       "      <th>Total_Stops</th>\n",
       "      <th>Additional_Info</th>\n",
       "      <th>Price</th>\n",
       "      <th>Journey_Day</th>\n",
       "      <th>Journey_Month</th>\n",
       "      <th>Journey_Day_DOW</th>\n",
       "    </tr>\n",
       "  </thead>\n",
       "  <tbody>\n",
       "    <tr>\n",
       "      <th>9686</th>\n",
       "      <td>IndiGo</td>\n",
       "      <td>2019-05-27</td>\n",
       "      <td>Kolkata</td>\n",
       "      <td>Banglore</td>\n",
       "      <td>CCU → BLR</td>\n",
       "      <td>22:15</td>\n",
       "      <td>00:50 28 May</td>\n",
       "      <td>2h 35m</td>\n",
       "      <td>0</td>\n",
       "      <td>No info</td>\n",
       "      <td>4804</td>\n",
       "      <td>27</td>\n",
       "      <td>5</td>\n",
       "      <td>Monday</td>\n",
       "    </tr>\n",
       "    <tr>\n",
       "      <th>9410</th>\n",
       "      <td>Vistara</td>\n",
       "      <td>2019-05-27</td>\n",
       "      <td>Banglore</td>\n",
       "      <td>Delhi</td>\n",
       "      <td>BLR → DEL</td>\n",
       "      <td>07:00</td>\n",
       "      <td>09:40</td>\n",
       "      <td>2h 40m</td>\n",
       "      <td>0</td>\n",
       "      <td>No info</td>\n",
       "      <td>4668</td>\n",
       "      <td>27</td>\n",
       "      <td>5</td>\n",
       "      <td>Monday</td>\n",
       "    </tr>\n",
       "    <tr>\n",
       "      <th>1404</th>\n",
       "      <td>IndiGo</td>\n",
       "      <td>2019-03-18</td>\n",
       "      <td>Mumbai</td>\n",
       "      <td>Hyderabad</td>\n",
       "      <td>BOM → HYD</td>\n",
       "      <td>19:05</td>\n",
       "      <td>20:30</td>\n",
       "      <td>1h 25m</td>\n",
       "      <td>0</td>\n",
       "      <td>No info</td>\n",
       "      <td>2754</td>\n",
       "      <td>18</td>\n",
       "      <td>3</td>\n",
       "      <td>Monday</td>\n",
       "    </tr>\n",
       "    <tr>\n",
       "      <th>1403</th>\n",
       "      <td>Jet Airways</td>\n",
       "      <td>2019-05-06</td>\n",
       "      <td>Banglore</td>\n",
       "      <td>Delhi</td>\n",
       "      <td>BLR → DEL</td>\n",
       "      <td>15:15</td>\n",
       "      <td>18:10</td>\n",
       "      <td>2h 55m</td>\n",
       "      <td>0</td>\n",
       "      <td>In-flight meal not included</td>\n",
       "      <td>3702</td>\n",
       "      <td>6</td>\n",
       "      <td>5</td>\n",
       "      <td>Monday</td>\n",
       "    </tr>\n",
       "    <tr>\n",
       "      <th>1402</th>\n",
       "      <td>IndiGo</td>\n",
       "      <td>2019-05-06</td>\n",
       "      <td>Kolkata</td>\n",
       "      <td>Banglore</td>\n",
       "      <td>CCU → BLR</td>\n",
       "      <td>11:30</td>\n",
       "      <td>14:05</td>\n",
       "      <td>2h 35m</td>\n",
       "      <td>0</td>\n",
       "      <td>No info</td>\n",
       "      <td>5224</td>\n",
       "      <td>6</td>\n",
       "      <td>5</td>\n",
       "      <td>Monday</td>\n",
       "    </tr>\n",
       "  </tbody>\n",
       "</table>\n",
       "</div>"
      ],
      "text/plain": [
       "          Airline Date_of_Journey    Source Destination      Route Dep_Time  \\\n",
       "9686       IndiGo      2019-05-27   Kolkata    Banglore  CCU → BLR    22:15   \n",
       "9410      Vistara      2019-05-27  Banglore       Delhi  BLR → DEL    07:00   \n",
       "1404       IndiGo      2019-03-18    Mumbai   Hyderabad  BOM → HYD    19:05   \n",
       "1403  Jet Airways      2019-05-06  Banglore       Delhi  BLR → DEL    15:15   \n",
       "1402       IndiGo      2019-05-06   Kolkata    Banglore  CCU → BLR    11:30   \n",
       "\n",
       "      Arrival_Time Duration  Total_Stops              Additional_Info  Price  \\\n",
       "9686  00:50 28 May   2h 35m            0                      No info   4804   \n",
       "9410         09:40   2h 40m            0                      No info   4668   \n",
       "1404         20:30   1h 25m            0                      No info   2754   \n",
       "1403         18:10   2h 55m            0  In-flight meal not included   3702   \n",
       "1402         14:05   2h 35m            0                      No info   5224   \n",
       "\n",
       "      Journey_Day  Journey_Month Journey_Day_DOW  \n",
       "9686           27              5          Monday  \n",
       "9410           27              5          Monday  \n",
       "1404           18              3          Monday  \n",
       "1403            6              5          Monday  \n",
       "1402            6              5          Monday  "
      ]
     },
     "execution_count": 24,
     "metadata": {},
     "output_type": "execute_result"
    }
   ],
   "source": [
    "tr.head()"
   ]
  },
  {
   "cell_type": "code",
   "execution_count": 25,
   "metadata": {
    "execution": {
     "iopub.execute_input": "2020-11-19T07:14:00.456341Z",
     "iopub.status.busy": "2020-11-19T07:14:00.455679Z",
     "iopub.status.idle": "2020-11-19T07:14:00.458951Z",
     "shell.execute_reply": "2020-11-19T07:14:00.458431Z"
    },
    "papermill": {
     "duration": 0.065106,
     "end_time": "2020-11-19T07:14:00.459066",
     "exception": false,
     "start_time": "2020-11-19T07:14:00.393960",
     "status": "completed"
    },
    "tags": []
   },
   "outputs": [],
   "source": [
    "#Converting the duration in minutes\n",
    "\n",
    "#Finding all numbers in a string\n",
    "import re\n",
    "duration_series = tr[\"Duration\"].str.findall(r'\\d+')"
   ]
  },
  {
   "cell_type": "code",
   "execution_count": 26,
   "metadata": {
    "execution": {
     "iopub.execute_input": "2020-11-19T07:14:00.560135Z",
     "iopub.status.busy": "2020-11-19T07:14:00.559003Z",
     "iopub.status.idle": "2020-11-19T07:14:00.563562Z",
     "shell.execute_reply": "2020-11-19T07:14:00.562918Z"
    },
    "papermill": {
     "duration": 0.059167,
     "end_time": "2020-11-19T07:14:00.563678",
     "exception": false,
     "start_time": "2020-11-19T07:14:00.504511",
     "status": "completed"
    },
    "tags": []
   },
   "outputs": [
    {
     "data": {
      "text/plain": [
       "9686     [2, 35]\n",
       "9410     [2, 40]\n",
       "1404     [1, 25]\n",
       "1403     [2, 55]\n",
       "1402     [2, 35]\n",
       "          ...   \n",
       "1532     [2, 50]\n",
       "9314    [21, 25]\n",
       "1535     [2, 50]\n",
       "1593    [22, 55]\n",
       "0        [2, 50]\n",
       "Name: Duration, Length: 10682, dtype: object"
      ]
     },
     "execution_count": 26,
     "metadata": {},
     "output_type": "execute_result"
    }
   ],
   "source": [
    "duration_series"
   ]
  },
  {
   "cell_type": "code",
   "execution_count": 27,
   "metadata": {
    "execution": {
     "iopub.execute_input": "2020-11-19T07:14:00.692382Z",
     "iopub.status.busy": "2020-11-19T07:14:00.681968Z",
     "iopub.status.idle": "2020-11-19T07:14:00.762324Z",
     "shell.execute_reply": "2020-11-19T07:14:00.761652Z"
    },
    "papermill": {
     "duration": 0.153034,
     "end_time": "2020-11-19T07:14:00.762451",
     "exception": false,
     "start_time": "2020-11-19T07:14:00.609417",
     "status": "completed"
    },
    "tags": []
   },
   "outputs": [],
   "source": [
    "tr['Duration']=  tr['Duration'].str.replace(\"h\", '*60').str.replace(' ','+').str.replace('m','*1').apply(eval)"
   ]
  },
  {
   "cell_type": "code",
   "execution_count": 28,
   "metadata": {
    "execution": {
     "iopub.execute_input": "2020-11-19T07:14:00.873072Z",
     "iopub.status.busy": "2020-11-19T07:14:00.872008Z",
     "iopub.status.idle": "2020-11-19T07:14:00.876288Z",
     "shell.execute_reply": "2020-11-19T07:14:00.875779Z"
    },
    "papermill": {
     "duration": 0.068014,
     "end_time": "2020-11-19T07:14:00.876408",
     "exception": false,
     "start_time": "2020-11-19T07:14:00.808394",
     "status": "completed"
    },
    "tags": []
   },
   "outputs": [
    {
     "data": {
      "text/html": [
       "<div>\n",
       "<style scoped>\n",
       "    .dataframe tbody tr th:only-of-type {\n",
       "        vertical-align: middle;\n",
       "    }\n",
       "\n",
       "    .dataframe tbody tr th {\n",
       "        vertical-align: top;\n",
       "    }\n",
       "\n",
       "    .dataframe thead th {\n",
       "        text-align: right;\n",
       "    }\n",
       "</style>\n",
       "<table border=\"1\" class=\"dataframe\">\n",
       "  <thead>\n",
       "    <tr style=\"text-align: right;\">\n",
       "      <th></th>\n",
       "      <th>Airline</th>\n",
       "      <th>Date_of_Journey</th>\n",
       "      <th>Source</th>\n",
       "      <th>Destination</th>\n",
       "      <th>Route</th>\n",
       "      <th>Dep_Time</th>\n",
       "      <th>Arrival_Time</th>\n",
       "      <th>Duration</th>\n",
       "      <th>Total_Stops</th>\n",
       "      <th>Additional_Info</th>\n",
       "      <th>Price</th>\n",
       "      <th>Journey_Day</th>\n",
       "      <th>Journey_Month</th>\n",
       "      <th>Journey_Day_DOW</th>\n",
       "    </tr>\n",
       "  </thead>\n",
       "  <tbody>\n",
       "    <tr>\n",
       "      <th>1532</th>\n",
       "      <td>IndiGo</td>\n",
       "      <td>2019-03-03</td>\n",
       "      <td>Banglore</td>\n",
       "      <td>New Delhi</td>\n",
       "      <td>BLR → DEL</td>\n",
       "      <td>23:30</td>\n",
       "      <td>02:20 04 Mar</td>\n",
       "      <td>170</td>\n",
       "      <td>0</td>\n",
       "      <td>No info</td>\n",
       "      <td>6144</td>\n",
       "      <td>3</td>\n",
       "      <td>3</td>\n",
       "      <td>Sunday</td>\n",
       "    </tr>\n",
       "    <tr>\n",
       "      <th>9314</th>\n",
       "      <td>Jet Airways</td>\n",
       "      <td>2019-03-24</td>\n",
       "      <td>Kolkata</td>\n",
       "      <td>Banglore</td>\n",
       "      <td>CCU → BOM → BLR</td>\n",
       "      <td>18:55</td>\n",
       "      <td>16:20 25 Mar</td>\n",
       "      <td>1285</td>\n",
       "      <td>1</td>\n",
       "      <td>No info</td>\n",
       "      <td>14231</td>\n",
       "      <td>24</td>\n",
       "      <td>3</td>\n",
       "      <td>Sunday</td>\n",
       "    </tr>\n",
       "    <tr>\n",
       "      <th>1535</th>\n",
       "      <td>SpiceJet</td>\n",
       "      <td>2019-03-24</td>\n",
       "      <td>Banglore</td>\n",
       "      <td>New Delhi</td>\n",
       "      <td>BLR → DEL</td>\n",
       "      <td>20:30</td>\n",
       "      <td>23:20</td>\n",
       "      <td>170</td>\n",
       "      <td>0</td>\n",
       "      <td>No check-in baggage included</td>\n",
       "      <td>3873</td>\n",
       "      <td>24</td>\n",
       "      <td>3</td>\n",
       "      <td>Sunday</td>\n",
       "    </tr>\n",
       "    <tr>\n",
       "      <th>1593</th>\n",
       "      <td>Jet Airways</td>\n",
       "      <td>2019-06-09</td>\n",
       "      <td>Delhi</td>\n",
       "      <td>Cochin</td>\n",
       "      <td>DEL → JAI → BOM → COK</td>\n",
       "      <td>05:30</td>\n",
       "      <td>04:25 10 Jun</td>\n",
       "      <td>1375</td>\n",
       "      <td>2</td>\n",
       "      <td>In-flight meal not included</td>\n",
       "      <td>10368</td>\n",
       "      <td>9</td>\n",
       "      <td>6</td>\n",
       "      <td>Sunday</td>\n",
       "    </tr>\n",
       "    <tr>\n",
       "      <th>0</th>\n",
       "      <td>IndiGo</td>\n",
       "      <td>2019-03-24</td>\n",
       "      <td>Banglore</td>\n",
       "      <td>New Delhi</td>\n",
       "      <td>BLR → DEL</td>\n",
       "      <td>22:20</td>\n",
       "      <td>01:10 22 Mar</td>\n",
       "      <td>170</td>\n",
       "      <td>0</td>\n",
       "      <td>No info</td>\n",
       "      <td>3897</td>\n",
       "      <td>24</td>\n",
       "      <td>3</td>\n",
       "      <td>Sunday</td>\n",
       "    </tr>\n",
       "  </tbody>\n",
       "</table>\n",
       "</div>"
      ],
      "text/plain": [
       "          Airline Date_of_Journey    Source Destination  \\\n",
       "1532       IndiGo      2019-03-03  Banglore   New Delhi   \n",
       "9314  Jet Airways      2019-03-24   Kolkata    Banglore   \n",
       "1535     SpiceJet      2019-03-24  Banglore   New Delhi   \n",
       "1593  Jet Airways      2019-06-09     Delhi      Cochin   \n",
       "0          IndiGo      2019-03-24  Banglore   New Delhi   \n",
       "\n",
       "                      Route Dep_Time  Arrival_Time  Duration  Total_Stops  \\\n",
       "1532              BLR → DEL    23:30  02:20 04 Mar       170            0   \n",
       "9314        CCU → BOM → BLR    18:55  16:20 25 Mar      1285            1   \n",
       "1535              BLR → DEL    20:30         23:20       170            0   \n",
       "1593  DEL → JAI → BOM → COK    05:30  04:25 10 Jun      1375            2   \n",
       "0                 BLR → DEL    22:20  01:10 22 Mar       170            0   \n",
       "\n",
       "                   Additional_Info  Price  Journey_Day  Journey_Month  \\\n",
       "1532                       No info   6144            3              3   \n",
       "9314                       No info  14231           24              3   \n",
       "1535  No check-in baggage included   3873           24              3   \n",
       "1593   In-flight meal not included  10368            9              6   \n",
       "0                          No info   3897           24              3   \n",
       "\n",
       "     Journey_Day_DOW  \n",
       "1532          Sunday  \n",
       "9314          Sunday  \n",
       "1535          Sunday  \n",
       "1593          Sunday  \n",
       "0             Sunday  "
      ]
     },
     "execution_count": 28,
     "metadata": {},
     "output_type": "execute_result"
    }
   ],
   "source": [
    "tr.tail()"
   ]
  },
  {
   "cell_type": "code",
   "execution_count": 29,
   "metadata": {
    "execution": {
     "iopub.execute_input": "2020-11-19T07:14:00.977842Z",
     "iopub.status.busy": "2020-11-19T07:14:00.977126Z",
     "iopub.status.idle": "2020-11-19T07:14:00.983188Z",
     "shell.execute_reply": "2020-11-19T07:14:00.982628Z"
    },
    "papermill": {
     "duration": 0.05909,
     "end_time": "2020-11-19T07:14:00.983306",
     "exception": false,
     "start_time": "2020-11-19T07:14:00.924216",
     "status": "completed"
    },
    "tags": []
   },
   "outputs": [],
   "source": [
    "tr.drop(tr.tail(2).index, inplace=True) # drop last n rows"
   ]
  },
  {
   "cell_type": "code",
   "execution_count": 30,
   "metadata": {
    "execution": {
     "iopub.execute_input": "2020-11-19T07:14:01.087782Z",
     "iopub.status.busy": "2020-11-19T07:14:01.086980Z",
     "iopub.status.idle": "2020-11-19T07:14:01.091048Z",
     "shell.execute_reply": "2020-11-19T07:14:01.091604Z"
    },
    "papermill": {
     "duration": 0.060447,
     "end_time": "2020-11-19T07:14:01.091762",
     "exception": false,
     "start_time": "2020-11-19T07:14:01.031315",
     "status": "completed"
    },
    "tags": []
   },
   "outputs": [],
   "source": [
    "# changing the dtype to int\n",
    "\n",
    "tr[['Total_Stops', 'Price', 'Journey_Day', 'Journey_Month']] = tr[['Total_Stops', 'Price', 'Journey_Day', 'Journey_Month']].astype(int)"
   ]
  },
  {
   "cell_type": "code",
   "execution_count": 31,
   "metadata": {
    "execution": {
     "iopub.execute_input": "2020-11-19T07:14:01.192597Z",
     "iopub.status.busy": "2020-11-19T07:14:01.191873Z",
     "iopub.status.idle": "2020-11-19T07:14:01.196206Z",
     "shell.execute_reply": "2020-11-19T07:14:01.195545Z"
    },
    "papermill": {
     "duration": 0.05736,
     "end_time": "2020-11-19T07:14:01.196321",
     "exception": false,
     "start_time": "2020-11-19T07:14:01.138961",
     "status": "completed"
    },
    "tags": []
   },
   "outputs": [
    {
     "data": {
      "text/plain": [
       "Airline                    object\n",
       "Date_of_Journey    datetime64[ns]\n",
       "Source                     object\n",
       "Destination                object\n",
       "Route                      object\n",
       "Dep_Time                   object\n",
       "Arrival_Time               object\n",
       "Duration                    int64\n",
       "Total_Stops                 int64\n",
       "Additional_Info            object\n",
       "Price                       int64\n",
       "Journey_Day                 int64\n",
       "Journey_Month               int64\n",
       "Journey_Day_DOW          category\n",
       "dtype: object"
      ]
     },
     "execution_count": 31,
     "metadata": {},
     "output_type": "execute_result"
    }
   ],
   "source": [
    "tr.dtypes"
   ]
  },
  {
   "cell_type": "code",
   "execution_count": 32,
   "metadata": {
    "execution": {
     "iopub.execute_input": "2020-11-19T07:14:01.304189Z",
     "iopub.status.busy": "2020-11-19T07:14:01.302623Z",
     "iopub.status.idle": "2020-11-19T07:14:01.306914Z",
     "shell.execute_reply": "2020-11-19T07:14:01.307406Z"
    },
    "papermill": {
     "duration": 0.063562,
     "end_time": "2020-11-19T07:14:01.307559",
     "exception": false,
     "start_time": "2020-11-19T07:14:01.243997",
     "status": "completed"
    },
    "tags": []
   },
   "outputs": [],
   "source": [
    "# dropping the columns that are not required\n",
    "\n",
    "tr = tr.drop(['Additional_Info'], axis= 1)\n",
    "\n",
    "tr = tr.drop(['Arrival_Time'], axis= 1) # dropping it because we have Duration and Departure Time"
   ]
  },
  {
   "cell_type": "code",
   "execution_count": 33,
   "metadata": {
    "execution": {
     "iopub.execute_input": "2020-11-19T07:14:01.411011Z",
     "iopub.status.busy": "2020-11-19T07:14:01.410394Z",
     "iopub.status.idle": "2020-11-19T07:14:01.414311Z",
     "shell.execute_reply": "2020-11-19T07:14:01.414832Z"
    },
    "papermill": {
     "duration": 0.058629,
     "end_time": "2020-11-19T07:14:01.414976",
     "exception": false,
     "start_time": "2020-11-19T07:14:01.356347",
     "status": "completed"
    },
    "tags": []
   },
   "outputs": [],
   "source": [
    "tr['Duration'] = tr['Duration'].astype('int')"
   ]
  },
  {
   "cell_type": "code",
   "execution_count": 34,
   "metadata": {
    "execution": {
     "iopub.execute_input": "2020-11-19T07:14:01.520828Z",
     "iopub.status.busy": "2020-11-19T07:14:01.520017Z",
     "iopub.status.idle": "2020-11-19T07:14:01.524508Z",
     "shell.execute_reply": "2020-11-19T07:14:01.523951Z"
    },
    "papermill": {
     "duration": 0.059557,
     "end_time": "2020-11-19T07:14:01.524626",
     "exception": false,
     "start_time": "2020-11-19T07:14:01.465069",
     "status": "completed"
    },
    "tags": []
   },
   "outputs": [
    {
     "data": {
      "text/plain": [
       "Airline                    object\n",
       "Date_of_Journey    datetime64[ns]\n",
       "Source                     object\n",
       "Destination                object\n",
       "Route                      object\n",
       "Dep_Time                   object\n",
       "Duration                    int64\n",
       "Total_Stops                 int64\n",
       "Price                       int64\n",
       "Journey_Day                 int64\n",
       "Journey_Month               int64\n",
       "Journey_Day_DOW          category\n",
       "dtype: object"
      ]
     },
     "execution_count": 34,
     "metadata": {},
     "output_type": "execute_result"
    }
   ],
   "source": [
    "tr.dtypes"
   ]
  },
  {
   "cell_type": "code",
   "execution_count": 35,
   "metadata": {
    "execution": {
     "iopub.execute_input": "2020-11-19T07:14:01.641668Z",
     "iopub.status.busy": "2020-11-19T07:14:01.636133Z",
     "iopub.status.idle": "2020-11-19T07:14:01.646345Z",
     "shell.execute_reply": "2020-11-19T07:14:01.645551Z"
    },
    "papermill": {
     "duration": 0.069871,
     "end_time": "2020-11-19T07:14:01.646490",
     "exception": false,
     "start_time": "2020-11-19T07:14:01.576619",
     "status": "completed"
    },
    "tags": []
   },
   "outputs": [
    {
     "data": {
      "text/plain": [
       "9686    [22, 15]\n",
       "9410    [07, 00]\n",
       "1404    [19, 05]\n",
       "1403    [15, 15]\n",
       "1402    [11, 30]\n",
       "          ...   \n",
       "7205    [11, 05]\n",
       "1531    [19, 50]\n",
       "1532    [23, 30]\n",
       "9314    [18, 55]\n",
       "1535    [20, 30]\n",
       "Name: Dep_Time, Length: 10680, dtype: object"
      ]
     },
     "execution_count": 35,
     "metadata": {},
     "output_type": "execute_result"
    }
   ],
   "source": [
    "#extracting hour and minute values from Dep_Time\n",
    "\n",
    "deptime_df = tr[\"Dep_Time\"].str.split(\":\")\n",
    "deptime_df"
   ]
  },
  {
   "cell_type": "code",
   "execution_count": 36,
   "metadata": {
    "execution": {
     "iopub.execute_input": "2020-11-19T07:14:01.755452Z",
     "iopub.status.busy": "2020-11-19T07:14:01.754634Z",
     "iopub.status.idle": "2020-11-19T07:14:13.328585Z",
     "shell.execute_reply": "2020-11-19T07:14:13.328029Z"
    },
    "papermill": {
     "duration": 11.630093,
     "end_time": "2020-11-19T07:14:13.328710",
     "exception": false,
     "start_time": "2020-11-19T07:14:01.698617",
     "status": "completed"
    },
    "tags": []
   },
   "outputs": [],
   "source": [
    "for x in tr.index:\n",
    "    tr.loc[x,'Dep_Time_Hour'] = deptime_df[x][0].strip()\n",
    "    tr.loc[x, 'Dep_Time_Minute'] = deptime_df[x][1].strip()\n",
    "    "
   ]
  },
  {
   "cell_type": "code",
   "execution_count": 37,
   "metadata": {
    "execution": {
     "iopub.execute_input": "2020-11-19T07:14:13.437162Z",
     "iopub.status.busy": "2020-11-19T07:14:13.436316Z",
     "iopub.status.idle": "2020-11-19T07:14:13.439583Z",
     "shell.execute_reply": "2020-11-19T07:14:13.440380Z"
    },
    "papermill": {
     "duration": 0.063559,
     "end_time": "2020-11-19T07:14:13.440605",
     "exception": false,
     "start_time": "2020-11-19T07:14:13.377046",
     "status": "completed"
    },
    "tags": []
   },
   "outputs": [
    {
     "name": "stdout",
     "output_type": "stream",
     "text": [
      "          Airline Date_of_Journey    Source Destination      Route Dep_Time  \\\n",
      "9686       IndiGo      2019-05-27   Kolkata    Banglore  CCU → BLR    22:15   \n",
      "9410      Vistara      2019-05-27  Banglore       Delhi  BLR → DEL    07:00   \n",
      "1404       IndiGo      2019-03-18    Mumbai   Hyderabad  BOM → HYD    19:05   \n",
      "1403  Jet Airways      2019-05-06  Banglore       Delhi  BLR → DEL    15:15   \n",
      "1402       IndiGo      2019-05-06   Kolkata    Banglore  CCU → BLR    11:30   \n",
      "\n",
      "      Duration  Total_Stops  Price  Journey_Day  Journey_Month  \\\n",
      "9686       155            0   4804           27              5   \n",
      "9410       160            0   4668           27              5   \n",
      "1404        85            0   2754           18              3   \n",
      "1403       175            0   3702            6              5   \n",
      "1402       155            0   5224            6              5   \n",
      "\n",
      "     Journey_Day_DOW Dep_Time_Hour Dep_Time_Minute  \n",
      "9686          Monday            22              15  \n",
      "9410          Monday            07              00  \n",
      "1404          Monday            19              05  \n",
      "1403          Monday            15              15  \n",
      "1402          Monday            11              30  \n"
     ]
    }
   ],
   "source": [
    "print(tr.head())"
   ]
  },
  {
   "cell_type": "code",
   "execution_count": 38,
   "metadata": {
    "execution": {
     "iopub.execute_input": "2020-11-19T07:14:13.550683Z",
     "iopub.status.busy": "2020-11-19T07:14:13.549543Z",
     "iopub.status.idle": "2020-11-19T07:14:13.561685Z",
     "shell.execute_reply": "2020-11-19T07:14:13.562388Z"
    },
    "papermill": {
     "duration": 0.071647,
     "end_time": "2020-11-19T07:14:13.562607",
     "exception": false,
     "start_time": "2020-11-19T07:14:13.490960",
     "status": "completed"
    },
    "tags": []
   },
   "outputs": [
    {
     "name": "stdout",
     "output_type": "stream",
     "text": [
      "          Airline    Source Destination      Route  Duration  Total_Stops  \\\n",
      "9686       IndiGo   Kolkata    Banglore  CCU → BLR       155            0   \n",
      "9410      Vistara  Banglore       Delhi  BLR → DEL       160            0   \n",
      "1404       IndiGo    Mumbai   Hyderabad  BOM → HYD        85            0   \n",
      "1403  Jet Airways  Banglore       Delhi  BLR → DEL       175            0   \n",
      "1402       IndiGo   Kolkata    Banglore  CCU → BLR       155            0   \n",
      "\n",
      "      Price  Journey_Day  Journey_Month Journey_Day_DOW Dep_Time_Hour  \\\n",
      "9686   4804           27              5          Monday            22   \n",
      "9410   4668           27              5          Monday            07   \n",
      "1404   2754           18              3          Monday            19   \n",
      "1403   3702            6              5          Monday            15   \n",
      "1402   5224            6              5          Monday            11   \n",
      "\n",
      "     Dep_Time_Minute  \n",
      "9686              15  \n",
      "9410              00  \n",
      "1404              05  \n",
      "1403              15  \n",
      "1402              30  \n"
     ]
    }
   ],
   "source": [
    "# dropping the datetime value since columns have been extracted from them\n",
    "\n",
    "tr = tr.drop(['Dep_Time'], axis=1)\n",
    "tr = tr.drop(['Date_of_Journey'], axis=1)\n",
    "\n",
    "print(tr.head())"
   ]
  },
  {
   "cell_type": "code",
   "execution_count": 39,
   "metadata": {
    "execution": {
     "iopub.execute_input": "2020-11-19T07:14:13.671388Z",
     "iopub.status.busy": "2020-11-19T07:14:13.670358Z",
     "iopub.status.idle": "2020-11-19T07:14:13.675870Z",
     "shell.execute_reply": "2020-11-19T07:14:13.675246Z"
    },
    "papermill": {
     "duration": 0.062721,
     "end_time": "2020-11-19T07:14:13.675991",
     "exception": false,
     "start_time": "2020-11-19T07:14:13.613270",
     "status": "completed"
    },
    "tags": []
   },
   "outputs": [
    {
     "data": {
      "text/plain": [
       "Airline              object\n",
       "Source               object\n",
       "Destination          object\n",
       "Route                object\n",
       "Duration              int64\n",
       "Total_Stops           int64\n",
       "Price                 int64\n",
       "Journey_Day           int64\n",
       "Journey_Month         int64\n",
       "Journey_Day_DOW    category\n",
       "Dep_Time_Hour        object\n",
       "Dep_Time_Minute      object\n",
       "dtype: object"
      ]
     },
     "execution_count": 39,
     "metadata": {},
     "output_type": "execute_result"
    }
   ],
   "source": [
    "tr.dtypes"
   ]
  },
  {
   "cell_type": "code",
   "execution_count": 40,
   "metadata": {
    "execution": {
     "iopub.execute_input": "2020-11-19T07:14:13.783612Z",
     "iopub.status.busy": "2020-11-19T07:14:13.782050Z",
     "iopub.status.idle": "2020-11-19T07:14:13.802437Z",
     "shell.execute_reply": "2020-11-19T07:14:13.801784Z"
    },
    "papermill": {
     "duration": 0.076755,
     "end_time": "2020-11-19T07:14:13.802549",
     "exception": false,
     "start_time": "2020-11-19T07:14:13.725794",
     "status": "completed"
    },
    "tags": []
   },
   "outputs": [],
   "source": [
    "# dealing with categorical values\n",
    "\n",
    "tr = pd.get_dummies(tr, columns=['Airline','Source','Destination','Route','Journey_Day_DOW'],drop_first=True)"
   ]
  },
  {
   "cell_type": "code",
   "execution_count": 41,
   "metadata": {
    "execution": {
     "iopub.execute_input": "2020-11-19T07:14:13.960690Z",
     "iopub.status.busy": "2020-11-19T07:14:13.953138Z",
     "iopub.status.idle": "2020-11-19T07:14:13.965268Z",
     "shell.execute_reply": "2020-11-19T07:14:13.965992Z"
    },
    "papermill": {
     "duration": 0.113662,
     "end_time": "2020-11-19T07:14:13.966232",
     "exception": false,
     "start_time": "2020-11-19T07:14:13.852570",
     "status": "completed"
    },
    "tags": []
   },
   "outputs": [
    {
     "name": "stdout",
     "output_type": "stream",
     "text": [
      "      Duration  Total_Stops  Price  Journey_Day  Journey_Month Dep_Time_Hour  \\\n",
      "9686       155            0   4804           27              5            22   \n",
      "9410       160            0   4668           27              5            07   \n",
      "1404        85            0   2754           18              3            19   \n",
      "1403       175            0   3702            6              5            15   \n",
      "1402       155            0   5224            6              5            11   \n",
      "\n",
      "     Dep_Time_Minute  Airline_Air India  Airline_GoAir  Airline_IndiGo  ...  \\\n",
      "9686              15                  0              0               1  ...   \n",
      "9410              00                  0              0               0  ...   \n",
      "1404              05                  0              0               1  ...   \n",
      "1403              15                  0              0               0  ...   \n",
      "1402              30                  0              0               1  ...   \n",
      "\n",
      "      Route_DEL → RPR → NAG → BOM → COK  Route_DEL → TRV → COK  \\\n",
      "9686                                  0                      0   \n",
      "9410                                  0                      0   \n",
      "1404                                  0                      0   \n",
      "1403                                  0                      0   \n",
      "1402                                  0                      0   \n",
      "\n",
      "      Route_DEL → UDR → BOM → COK  Route_MAA → CCU  Journey_Day_DOW_Tuesday  \\\n",
      "9686                            0                0                        0   \n",
      "9410                            0                0                        0   \n",
      "1404                            0                0                        0   \n",
      "1403                            0                0                        0   \n",
      "1402                            0                0                        0   \n",
      "\n",
      "      Journey_Day_DOW_Wednesday  Journey_Day_DOW_Thursday  \\\n",
      "9686                          0                         0   \n",
      "9410                          0                         0   \n",
      "1404                          0                         0   \n",
      "1403                          0                         0   \n",
      "1402                          0                         0   \n",
      "\n",
      "      Journey_Day_DOW_Friday  Journey_Day_DOW_Saturday  Journey_Day_DOW_Sunday  \n",
      "9686                       0                         0                       0  \n",
      "9410                       0                         0                       0  \n",
      "1404                       0                         0                       0  \n",
      "1403                       0                         0                       0  \n",
      "1402                       0                         0                       0  \n",
      "\n",
      "[5 rows x 160 columns]\n"
     ]
    }
   ],
   "source": [
    "print(tr.head())"
   ]
  },
  {
   "cell_type": "code",
   "execution_count": 42,
   "metadata": {
    "execution": {
     "iopub.execute_input": "2020-11-19T07:14:14.082013Z",
     "iopub.status.busy": "2020-11-19T07:14:14.081272Z",
     "iopub.status.idle": "2020-11-19T07:14:14.085215Z",
     "shell.execute_reply": "2020-11-19T07:14:14.085957Z"
    },
    "papermill": {
     "duration": 0.065274,
     "end_time": "2020-11-19T07:14:14.086186",
     "exception": false,
     "start_time": "2020-11-19T07:14:14.020912",
     "status": "completed"
    },
    "tags": []
   },
   "outputs": [
    {
     "name": "stdout",
     "output_type": "stream",
     "text": [
      "Duration                                      int64\n",
      "Total_Stops                                   int64\n",
      "Price                                         int64\n",
      "Journey_Day                                   int64\n",
      "Journey_Month                                 int64\n",
      "Dep_Time_Hour                                object\n",
      "Dep_Time_Minute                              object\n",
      "Airline_Air India                             uint8\n",
      "Airline_GoAir                                 uint8\n",
      "Airline_IndiGo                                uint8\n",
      "Airline_Jet Airways                           uint8\n",
      "Airline_Jet Airways Business                  uint8\n",
      "Airline_Multiple carriers                     uint8\n",
      "Airline_Multiple carriers Premium economy     uint8\n",
      "Airline_SpiceJet                              uint8\n",
      "Airline_Trujet                                uint8\n",
      "Airline_Vistara                               uint8\n",
      "Airline_Vistara Premium economy               uint8\n",
      "Source_Chennai                                uint8\n",
      "Source_Delhi                                  uint8\n",
      "Source_Kolkata                                uint8\n",
      "Source_Mumbai                                 uint8\n",
      "Destination_Cochin                            uint8\n",
      "Destination_Delhi                             uint8\n",
      "Destination_Hyderabad                         uint8\n",
      "Destination_Kolkata                           uint8\n",
      "Destination_New Delhi                         uint8\n",
      "Route_BLR → BBI → DEL                         uint8\n",
      "Route_BLR → BDQ → DEL                         uint8\n",
      "Route_BLR → BOM → AMD → DEL                   uint8\n",
      "Route_BLR → BOM → BHO → DEL                   uint8\n",
      "Route_BLR → BOM → DEL                         uint8\n",
      "Route_BLR → BOM → IDR → DEL                   uint8\n",
      "Route_BLR → BOM → IDR → GWL → DEL             uint8\n",
      "Route_BLR → BOM → IXC → DEL                   uint8\n",
      "Route_BLR → BOM → JDH → DEL                   uint8\n",
      "Route_BLR → BOM → NAG → DEL                   uint8\n",
      "Route_BLR → BOM → UDR → DEL                   uint8\n",
      "Route_BLR → CCU → BBI → DEL                   uint8\n",
      "Route_BLR → CCU → BBI → HYD → DEL             uint8\n",
      "Route_BLR → CCU → BBI → HYD → VGA → DEL       uint8\n",
      "Route_BLR → CCU → DEL                         uint8\n",
      "Route_BLR → CCU → GAU → DEL                   uint8\n",
      "Route_BLR → COK → DEL                         uint8\n",
      "Route_BLR → DEL                               uint8\n",
      "Route_BLR → GAU → DEL                         uint8\n",
      "Route_BLR → GOI → DEL                         uint8\n",
      "Route_BLR → HBX → BOM → AMD → DEL             uint8\n",
      "Route_BLR → HBX → BOM → BHO → DEL             uint8\n",
      "Route_BLR → HBX → BOM → NAG → DEL             uint8\n",
      "Route_BLR → HYD → DEL                         uint8\n",
      "Route_BLR → HYD → VGA → DEL                   uint8\n",
      "Route_BLR → IDR → DEL                         uint8\n",
      "Route_BLR → LKO → DEL                         uint8\n",
      "Route_BLR → MAA → DEL                         uint8\n",
      "Route_BLR → NAG → DEL                         uint8\n",
      "Route_BLR → PNQ → DEL                         uint8\n",
      "Route_BLR → STV → DEL                         uint8\n",
      "Route_BLR → TRV → COK → DEL                   uint8\n",
      "Route_BLR → VGA → DEL                         uint8\n",
      "Route_BLR → VGA → HYD → DEL                   uint8\n",
      "Route_BLR → VGA → VTZ → DEL                   uint8\n",
      "Route_BOM → AMD → ISK → HYD                   uint8\n",
      "Route_BOM → BBI → HYD                         uint8\n",
      "Route_BOM → BDQ → DEL → HYD                   uint8\n",
      "Route_BOM → BHO → DEL → HYD                   uint8\n",
      "Route_BOM → BLR → CCU → BBI → HYD             uint8\n",
      "Route_BOM → BLR → HYD                         uint8\n",
      "Route_BOM → CCU → HYD                         uint8\n",
      "Route_BOM → COK → MAA → HYD                   uint8\n",
      "Route_BOM → DED → DEL → HYD                   uint8\n",
      "Route_BOM → DEL → HYD                         uint8\n",
      "Route_BOM → GOI → HYD                         uint8\n",
      "Route_BOM → GOI → PNQ → HYD                   uint8\n",
      "Route_BOM → HYD                               uint8\n",
      "Route_BOM → IDR → DEL → HYD                   uint8\n",
      "Route_BOM → JAI → DEL → HYD                   uint8\n",
      "Route_BOM → JDH → DEL → HYD                   uint8\n",
      "Route_BOM → JDH → JAI → DEL → HYD             uint8\n",
      "Route_BOM → JLR → HYD                         uint8\n",
      "Route_BOM → MAA → HYD                         uint8\n",
      "Route_BOM → NDC → HYD                         uint8\n",
      "Route_BOM → RPR → VTZ → HYD                   uint8\n",
      "Route_BOM → UDR → DEL → HYD                   uint8\n",
      "Route_BOM → VNS → DEL → HYD                   uint8\n",
      "Route_CCU → AMD → BLR                         uint8\n",
      "Route_CCU → BBI → BLR                         uint8\n",
      "Route_CCU → BBI → BOM → BLR                   uint8\n",
      "Route_CCU → BBI → HYD → BLR                   uint8\n",
      "Route_CCU → BBI → IXR → DEL → BLR             uint8\n",
      "Route_CCU → BLR                               uint8\n",
      "Route_CCU → BOM → AMD → BLR                   uint8\n",
      "Route_CCU → BOM → BLR                         uint8\n",
      "Route_CCU → BOM → COK → BLR                   uint8\n",
      "Route_CCU → BOM → GOI → BLR                   uint8\n",
      "Route_CCU → BOM → HBX → BLR                   uint8\n",
      "Route_CCU → BOM → PNQ → BLR                   uint8\n",
      "Route_CCU → BOM → TRV → BLR                   uint8\n",
      "Route_CCU → DEL → AMD → BLR                   uint8\n",
      "Route_CCU → DEL → BLR                         uint8\n",
      "Route_CCU → DEL → COK → BLR                   uint8\n",
      "Route_CCU → DEL → COK → TRV → BLR             uint8\n",
      "Route_CCU → DEL → VGA → BLR                   uint8\n",
      "Route_CCU → GAU → BLR                         uint8\n",
      "Route_CCU → GAU → DEL → BLR                   uint8\n",
      "Route_CCU → GAU → IMF → DEL → BLR             uint8\n",
      "Route_CCU → HYD → BLR                         uint8\n",
      "Route_CCU → IXA → BLR                         uint8\n",
      "Route_CCU → IXB → BLR                         uint8\n",
      "Route_CCU → IXB → DEL → BLR                   uint8\n",
      "Route_CCU → IXR → BBI → BLR                   uint8\n",
      "Route_CCU → IXR → DEL → BLR                   uint8\n",
      "Route_CCU → IXZ → MAA → BLR                   uint8\n",
      "Route_CCU → JAI → BOM → BLR                   uint8\n",
      "Route_CCU → JAI → DEL → BLR                   uint8\n",
      "Route_CCU → KNU → BLR                         uint8\n",
      "Route_CCU → MAA → BLR                         uint8\n",
      "Route_CCU → NAG → BLR                         uint8\n",
      "Route_CCU → PAT → BLR                         uint8\n",
      "Route_CCU → PNQ → BLR                         uint8\n",
      "Route_CCU → RPR → HYD → BLR                   uint8\n",
      "Route_CCU → VNS → DEL → BLR                   uint8\n",
      "Route_CCU → VTZ → BLR                         uint8\n",
      "Route_DEL → AMD → BOM → COK                   uint8\n",
      "Route_DEL → AMD → COK                         uint8\n",
      "Route_DEL → ATQ → BOM → COK                   uint8\n",
      "Route_DEL → BBI → COK                         uint8\n",
      "Route_DEL → BDQ → BOM → COK                   uint8\n",
      "Route_DEL → BHO → BOM → COK                   uint8\n",
      "Route_DEL → BLR → COK                         uint8\n",
      "Route_DEL → BOM → COK                         uint8\n",
      "Route_DEL → CCU → BOM → COK                   uint8\n",
      "Route_DEL → COK                               uint8\n",
      "Route_DEL → DED → BOM → COK                   uint8\n",
      "Route_DEL → GOI → BOM → COK                   uint8\n",
      "Route_DEL → GWL → IDR → BOM → COK             uint8\n",
      "Route_DEL → HYD → BOM → COK                   uint8\n",
      "Route_DEL → HYD → COK                         uint8\n",
      "Route_DEL → HYD → MAA → COK                   uint8\n",
      "Route_DEL → IDR → BOM → COK                   uint8\n",
      "Route_DEL → IXC → BOM → COK                   uint8\n",
      "Route_DEL → IXU → BOM → COK                   uint8\n",
      "Route_DEL → JAI → BOM → COK                   uint8\n",
      "Route_DEL → JDH → BOM → COK                   uint8\n",
      "Route_DEL → LKO → BOM → COK                   uint8\n",
      "Route_DEL → LKO → COK                         uint8\n",
      "Route_DEL → MAA → BOM → COK                   uint8\n",
      "Route_DEL → MAA → COK                         uint8\n",
      "Route_DEL → NAG → BOM → COK                   uint8\n",
      "Route_DEL → PNQ → COK                         uint8\n",
      "Route_DEL → RPR → NAG → BOM → COK             uint8\n",
      "Route_DEL → TRV → COK                         uint8\n",
      "Route_DEL → UDR → BOM → COK                   uint8\n",
      "Route_MAA → CCU                               uint8\n",
      "Journey_Day_DOW_Tuesday                       uint8\n",
      "Journey_Day_DOW_Wednesday                     uint8\n",
      "Journey_Day_DOW_Thursday                      uint8\n",
      "Journey_Day_DOW_Friday                        uint8\n",
      "Journey_Day_DOW_Saturday                      uint8\n",
      "Journey_Day_DOW_Sunday                        uint8\n",
      "dtype: object\n"
     ]
    }
   ],
   "source": [
    "# getting all the dtypes since number of columns are too high\n",
    "\n",
    "with pd.option_context('display.max_rows', None, 'display.max_columns', None):\n",
    "    print(tr.dtypes)"
   ]
  },
  {
   "cell_type": "markdown",
   "metadata": {
    "papermill": {
     "duration": 0.051306,
     "end_time": "2020-11-19T07:14:14.195749",
     "exception": false,
     "start_time": "2020-11-19T07:14:14.144443",
     "status": "completed"
    },
    "tags": []
   },
   "source": [
    "We can see tha hour and minute columns are of object dtype, but should be int dtype."
   ]
  },
  {
   "cell_type": "code",
   "execution_count": 43,
   "metadata": {
    "execution": {
     "iopub.execute_input": "2020-11-19T07:14:14.304759Z",
     "iopub.status.busy": "2020-11-19T07:14:14.304071Z",
     "iopub.status.idle": "2020-11-19T07:14:14.315287Z",
     "shell.execute_reply": "2020-11-19T07:14:14.314617Z"
    },
    "papermill": {
     "duration": 0.068567,
     "end_time": "2020-11-19T07:14:14.315405",
     "exception": false,
     "start_time": "2020-11-19T07:14:14.246838",
     "status": "completed"
    },
    "tags": []
   },
   "outputs": [],
   "source": [
    "# setting hour and minute dtype as int\n",
    "\n",
    "tr[['Dep_Time_Hour', 'Dep_Time_Minute']] = tr[['Dep_Time_Hour', 'Dep_Time_Minute']].astype(int)"
   ]
  },
  {
   "cell_type": "code",
   "execution_count": 44,
   "metadata": {
    "execution": {
     "iopub.execute_input": "2020-11-19T07:14:14.429389Z",
     "iopub.status.busy": "2020-11-19T07:14:14.428679Z",
     "iopub.status.idle": "2020-11-19T07:14:14.440168Z",
     "shell.execute_reply": "2020-11-19T07:14:14.439522Z"
    },
    "papermill": {
     "duration": 0.073865,
     "end_time": "2020-11-19T07:14:14.440301",
     "exception": false,
     "start_time": "2020-11-19T07:14:14.366436",
     "status": "completed"
    },
    "tags": []
   },
   "outputs": [
    {
     "data": {
      "text/html": [
       "<div>\n",
       "<style scoped>\n",
       "    .dataframe tbody tr th:only-of-type {\n",
       "        vertical-align: middle;\n",
       "    }\n",
       "\n",
       "    .dataframe tbody tr th {\n",
       "        vertical-align: top;\n",
       "    }\n",
       "\n",
       "    .dataframe thead th {\n",
       "        text-align: right;\n",
       "    }\n",
       "</style>\n",
       "<table border=\"1\" class=\"dataframe\">\n",
       "  <thead>\n",
       "    <tr style=\"text-align: right;\">\n",
       "      <th></th>\n",
       "      <th>Duration</th>\n",
       "      <th>Total_Stops</th>\n",
       "      <th>Price</th>\n",
       "      <th>Journey_Day</th>\n",
       "      <th>Journey_Month</th>\n",
       "      <th>Dep_Time_Hour</th>\n",
       "      <th>Dep_Time_Minute</th>\n",
       "      <th>Airline_Air India</th>\n",
       "      <th>Airline_GoAir</th>\n",
       "      <th>Airline_IndiGo</th>\n",
       "      <th>...</th>\n",
       "      <th>Route_DEL → RPR → NAG → BOM → COK</th>\n",
       "      <th>Route_DEL → TRV → COK</th>\n",
       "      <th>Route_DEL → UDR → BOM → COK</th>\n",
       "      <th>Route_MAA → CCU</th>\n",
       "      <th>Journey_Day_DOW_Tuesday</th>\n",
       "      <th>Journey_Day_DOW_Wednesday</th>\n",
       "      <th>Journey_Day_DOW_Thursday</th>\n",
       "      <th>Journey_Day_DOW_Friday</th>\n",
       "      <th>Journey_Day_DOW_Saturday</th>\n",
       "      <th>Journey_Day_DOW_Sunday</th>\n",
       "    </tr>\n",
       "  </thead>\n",
       "  <tbody>\n",
       "    <tr>\n",
       "      <th>9686</th>\n",
       "      <td>155</td>\n",
       "      <td>0</td>\n",
       "      <td>4804</td>\n",
       "      <td>27</td>\n",
       "      <td>5</td>\n",
       "      <td>22</td>\n",
       "      <td>15</td>\n",
       "      <td>0</td>\n",
       "      <td>0</td>\n",
       "      <td>1</td>\n",
       "      <td>...</td>\n",
       "      <td>0</td>\n",
       "      <td>0</td>\n",
       "      <td>0</td>\n",
       "      <td>0</td>\n",
       "      <td>0</td>\n",
       "      <td>0</td>\n",
       "      <td>0</td>\n",
       "      <td>0</td>\n",
       "      <td>0</td>\n",
       "      <td>0</td>\n",
       "    </tr>\n",
       "    <tr>\n",
       "      <th>9410</th>\n",
       "      <td>160</td>\n",
       "      <td>0</td>\n",
       "      <td>4668</td>\n",
       "      <td>27</td>\n",
       "      <td>5</td>\n",
       "      <td>7</td>\n",
       "      <td>0</td>\n",
       "      <td>0</td>\n",
       "      <td>0</td>\n",
       "      <td>0</td>\n",
       "      <td>...</td>\n",
       "      <td>0</td>\n",
       "      <td>0</td>\n",
       "      <td>0</td>\n",
       "      <td>0</td>\n",
       "      <td>0</td>\n",
       "      <td>0</td>\n",
       "      <td>0</td>\n",
       "      <td>0</td>\n",
       "      <td>0</td>\n",
       "      <td>0</td>\n",
       "    </tr>\n",
       "    <tr>\n",
       "      <th>1404</th>\n",
       "      <td>85</td>\n",
       "      <td>0</td>\n",
       "      <td>2754</td>\n",
       "      <td>18</td>\n",
       "      <td>3</td>\n",
       "      <td>19</td>\n",
       "      <td>5</td>\n",
       "      <td>0</td>\n",
       "      <td>0</td>\n",
       "      <td>1</td>\n",
       "      <td>...</td>\n",
       "      <td>0</td>\n",
       "      <td>0</td>\n",
       "      <td>0</td>\n",
       "      <td>0</td>\n",
       "      <td>0</td>\n",
       "      <td>0</td>\n",
       "      <td>0</td>\n",
       "      <td>0</td>\n",
       "      <td>0</td>\n",
       "      <td>0</td>\n",
       "    </tr>\n",
       "    <tr>\n",
       "      <th>1403</th>\n",
       "      <td>175</td>\n",
       "      <td>0</td>\n",
       "      <td>3702</td>\n",
       "      <td>6</td>\n",
       "      <td>5</td>\n",
       "      <td>15</td>\n",
       "      <td>15</td>\n",
       "      <td>0</td>\n",
       "      <td>0</td>\n",
       "      <td>0</td>\n",
       "      <td>...</td>\n",
       "      <td>0</td>\n",
       "      <td>0</td>\n",
       "      <td>0</td>\n",
       "      <td>0</td>\n",
       "      <td>0</td>\n",
       "      <td>0</td>\n",
       "      <td>0</td>\n",
       "      <td>0</td>\n",
       "      <td>0</td>\n",
       "      <td>0</td>\n",
       "    </tr>\n",
       "    <tr>\n",
       "      <th>1402</th>\n",
       "      <td>155</td>\n",
       "      <td>0</td>\n",
       "      <td>5224</td>\n",
       "      <td>6</td>\n",
       "      <td>5</td>\n",
       "      <td>11</td>\n",
       "      <td>30</td>\n",
       "      <td>0</td>\n",
       "      <td>0</td>\n",
       "      <td>1</td>\n",
       "      <td>...</td>\n",
       "      <td>0</td>\n",
       "      <td>0</td>\n",
       "      <td>0</td>\n",
       "      <td>0</td>\n",
       "      <td>0</td>\n",
       "      <td>0</td>\n",
       "      <td>0</td>\n",
       "      <td>0</td>\n",
       "      <td>0</td>\n",
       "      <td>0</td>\n",
       "    </tr>\n",
       "  </tbody>\n",
       "</table>\n",
       "<p>5 rows × 160 columns</p>\n",
       "</div>"
      ],
      "text/plain": [
       "      Duration  Total_Stops  Price  Journey_Day  Journey_Month  Dep_Time_Hour  \\\n",
       "9686       155            0   4804           27              5             22   \n",
       "9410       160            0   4668           27              5              7   \n",
       "1404        85            0   2754           18              3             19   \n",
       "1403       175            0   3702            6              5             15   \n",
       "1402       155            0   5224            6              5             11   \n",
       "\n",
       "      Dep_Time_Minute  Airline_Air India  Airline_GoAir  Airline_IndiGo  ...  \\\n",
       "9686               15                  0              0               1  ...   \n",
       "9410                0                  0              0               0  ...   \n",
       "1404                5                  0              0               1  ...   \n",
       "1403               15                  0              0               0  ...   \n",
       "1402               30                  0              0               1  ...   \n",
       "\n",
       "      Route_DEL → RPR → NAG → BOM → COK  Route_DEL → TRV → COK  \\\n",
       "9686                                  0                      0   \n",
       "9410                                  0                      0   \n",
       "1404                                  0                      0   \n",
       "1403                                  0                      0   \n",
       "1402                                  0                      0   \n",
       "\n",
       "      Route_DEL → UDR → BOM → COK  Route_MAA → CCU  Journey_Day_DOW_Tuesday  \\\n",
       "9686                            0                0                        0   \n",
       "9410                            0                0                        0   \n",
       "1404                            0                0                        0   \n",
       "1403                            0                0                        0   \n",
       "1402                            0                0                        0   \n",
       "\n",
       "      Journey_Day_DOW_Wednesday  Journey_Day_DOW_Thursday  \\\n",
       "9686                          0                         0   \n",
       "9410                          0                         0   \n",
       "1404                          0                         0   \n",
       "1403                          0                         0   \n",
       "1402                          0                         0   \n",
       "\n",
       "      Journey_Day_DOW_Friday  Journey_Day_DOW_Saturday  Journey_Day_DOW_Sunday  \n",
       "9686                       0                         0                       0  \n",
       "9410                       0                         0                       0  \n",
       "1404                       0                         0                       0  \n",
       "1403                       0                         0                       0  \n",
       "1402                       0                         0                       0  \n",
       "\n",
       "[5 rows x 160 columns]"
      ]
     },
     "execution_count": 44,
     "metadata": {},
     "output_type": "execute_result"
    }
   ],
   "source": [
    "tr.head()"
   ]
  },
  {
   "cell_type": "code",
   "execution_count": 45,
   "metadata": {
    "execution": {
     "iopub.execute_input": "2020-11-19T07:14:14.551741Z",
     "iopub.status.busy": "2020-11-19T07:14:14.551057Z",
     "iopub.status.idle": "2020-11-19T07:14:15.688952Z",
     "shell.execute_reply": "2020-11-19T07:14:15.688246Z"
    },
    "papermill": {
     "duration": 1.197218,
     "end_time": "2020-11-19T07:14:15.689117",
     "exception": false,
     "start_time": "2020-11-19T07:14:14.491899",
     "status": "completed"
    },
    "tags": []
   },
   "outputs": [],
   "source": [
    "from sklearn.preprocessing import StandardScaler\n",
    "from sklearn.model_selection import train_test_split\n",
    "from sklearn.metrics import mean_squared_error as mse\n",
    "from sklearn.metrics import r2_score\n",
    "from sklearn.ensemble import AdaBoostRegressor\n",
    "\n",
    "\n",
    "from math import sqrt\n",
    "from sklearn.model_selection import cross_val_score\n",
    "from sklearn.model_selection import GridSearchCV\n",
    "from sklearn.model_selection import RandomizedSearchCV\n",
    "\n",
    "from sklearn.neighbors import KNeighborsRegressor\n",
    "from sklearn.ensemble import AdaBoostRegressor\n",
    "from sklearn.linear_model import Ridge\n",
    "from sklearn.linear_model import Lasso\n",
    "from sklearn.ensemble import GradientBoostingRegressor\n",
    "from sklearn.tree import DecisionTreeRegressor\n",
    "from sklearn.ensemble import RandomForestRegressor\n",
    "from xgboost import XGBRegressor\n",
    "from sklearn.model_selection import KFold"
   ]
  },
  {
   "cell_type": "code",
   "execution_count": 46,
   "metadata": {
    "execution": {
     "iopub.execute_input": "2020-11-19T07:14:15.808565Z",
     "iopub.status.busy": "2020-11-19T07:14:15.807763Z",
     "iopub.status.idle": "2020-11-19T07:14:15.817403Z",
     "shell.execute_reply": "2020-11-19T07:14:15.816778Z"
    },
    "papermill": {
     "duration": 0.073194,
     "end_time": "2020-11-19T07:14:15.817518",
     "exception": false,
     "start_time": "2020-11-19T07:14:15.744324",
     "status": "completed"
    },
    "tags": []
   },
   "outputs": [],
   "source": [
    "#splitting the dataset into train and test values\n",
    "\n",
    "train, test= train_test_split(tr, test_size=0.25, random_state= 101)\n"
   ]
  },
  {
   "cell_type": "code",
   "execution_count": 47,
   "metadata": {
    "execution": {
     "iopub.execute_input": "2020-11-19T07:14:15.932992Z",
     "iopub.status.busy": "2020-11-19T07:14:15.932320Z",
     "iopub.status.idle": "2020-11-19T07:14:15.940095Z",
     "shell.execute_reply": "2020-11-19T07:14:15.939520Z"
    },
    "papermill": {
     "duration": 0.06915,
     "end_time": "2020-11-19T07:14:15.940342",
     "exception": false,
     "start_time": "2020-11-19T07:14:15.871192",
     "status": "completed"
    },
    "tags": []
   },
   "outputs": [],
   "source": [
    "x_train = train.drop(['Price'], axis=1)\n",
    "y_train = train['Price']\n",
    "\n",
    "x_test = test.drop(['Price'], axis=1)\n",
    "y_test = test['Price']"
   ]
  },
  {
   "cell_type": "code",
   "execution_count": 48,
   "metadata": {
    "execution": {
     "iopub.execute_input": "2020-11-19T07:14:16.062630Z",
     "iopub.status.busy": "2020-11-19T07:14:16.060057Z",
     "iopub.status.idle": "2020-11-19T07:14:16.114990Z",
     "shell.execute_reply": "2020-11-19T07:14:16.113898Z"
    },
    "papermill": {
     "duration": 0.118542,
     "end_time": "2020-11-19T07:14:16.115208",
     "exception": false,
     "start_time": "2020-11-19T07:14:15.996666",
     "status": "completed"
    },
    "tags": []
   },
   "outputs": [],
   "source": [
    "sc = StandardScaler()\n",
    "\n",
    "x_train = sc.fit_transform(x_train)"
   ]
  },
  {
   "cell_type": "code",
   "execution_count": 49,
   "metadata": {
    "execution": {
     "iopub.execute_input": "2020-11-19T07:14:16.233315Z",
     "iopub.status.busy": "2020-11-19T07:14:16.232663Z",
     "iopub.status.idle": "2020-11-19T07:14:16.247287Z",
     "shell.execute_reply": "2020-11-19T07:14:16.246521Z"
    },
    "papermill": {
     "duration": 0.075391,
     "end_time": "2020-11-19T07:14:16.247414",
     "exception": false,
     "start_time": "2020-11-19T07:14:16.172023",
     "status": "completed"
    },
    "tags": []
   },
   "outputs": [],
   "source": [
    "x_test = sc.fit_transform(x_test)"
   ]
  },
  {
   "cell_type": "code",
   "execution_count": 50,
   "metadata": {
    "execution": {
     "iopub.execute_input": "2020-11-19T07:14:16.360162Z",
     "iopub.status.busy": "2020-11-19T07:14:16.359143Z",
     "iopub.status.idle": "2020-11-19T07:14:16.362420Z",
     "shell.execute_reply": "2020-11-19T07:14:16.361873Z"
    },
    "papermill": {
     "duration": 0.060014,
     "end_time": "2020-11-19T07:14:16.362547",
     "exception": false,
     "start_time": "2020-11-19T07:14:16.302533",
     "status": "completed"
    },
    "tags": []
   },
   "outputs": [],
   "source": [
    "#y_train = sc.fit_transform(y_train)"
   ]
  },
  {
   "cell_type": "code",
   "execution_count": 51,
   "metadata": {
    "execution": {
     "iopub.execute_input": "2020-11-19T07:14:16.475049Z",
     "iopub.status.busy": "2020-11-19T07:14:16.474409Z",
     "iopub.status.idle": "2020-11-19T07:14:19.370321Z",
     "shell.execute_reply": "2020-11-19T07:14:19.369618Z"
    },
    "papermill": {
     "duration": 2.954438,
     "end_time": "2020-11-19T07:14:19.370443",
     "exception": false,
     "start_time": "2020-11-19T07:14:16.416005",
     "status": "completed"
    },
    "tags": []
   },
   "outputs": [
    {
     "data": {
      "text/plain": [
       "RandomizedSearchCV(cv=5, estimator=DecisionTreeRegressor(), n_jobs=-1,\n",
       "                   param_distributions={'max_features': ['auto', 'sqrt',\n",
       "                                                         'log2'],\n",
       "                                        'min_samples_split': [2, 4, 8],\n",
       "                                        'splitter': ['best', 'random']})"
      ]
     },
     "execution_count": 51,
     "metadata": {},
     "output_type": "execute_result"
    }
   ],
   "source": [
    "# Decision Tree Regressor\n",
    "\n",
    "estimator = DecisionTreeRegressor()\n",
    "param_distributions = { \n",
    "            \"splitter\"      : ['best','random'],\n",
    "            \"max_features\"      : [\"auto\", \"sqrt\", \"log2\"],\n",
    "            \"min_samples_split\" : [2,4,8],\n",
    "            }\n",
    "\n",
    "dtmodel = RandomizedSearchCV(estimator, param_distributions, n_jobs=-1, cv=5)\n",
    "dtmodel.fit(x_train, y_train)"
   ]
  },
  {
   "cell_type": "code",
   "execution_count": 52,
   "metadata": {
    "execution": {
     "iopub.execute_input": "2020-11-19T07:14:19.487629Z",
     "iopub.status.busy": "2020-11-19T07:14:19.486887Z",
     "iopub.status.idle": "2020-11-19T07:14:19.506106Z",
     "shell.execute_reply": "2020-11-19T07:14:19.505567Z"
    },
    "papermill": {
     "duration": 0.081228,
     "end_time": "2020-11-19T07:14:19.506238",
     "exception": false,
     "start_time": "2020-11-19T07:14:19.425010",
     "status": "completed"
    },
    "tags": []
   },
   "outputs": [
    {
     "name": "stdout",
     "output_type": "stream",
     "text": [
      "Train Score:  0.9222763073609349\n",
      "=*=*=*=*=*=*=*=*=*=*=*=*=*=*=*=*=*=*=*=*\n",
      "Test Score:  0.6578488535454983\n"
     ]
    }
   ],
   "source": [
    "y_pred_tr = dtmodel.predict(x_train)\n",
    "y_pred = dtmodel.predict(x_test)\n",
    "\n",
    "print('Train Score: ',dtmodel.score(x_train, y_train))\n",
    "print('=*=*=*=*=*=*=*=*=*=*=*=*=*=*=*=*=*=*=*=*')\n",
    "print('Test Score: ',dtmodel.score(x_test, y_test))"
   ]
  },
  {
   "cell_type": "code",
   "execution_count": 53,
   "metadata": {
    "execution": {
     "iopub.execute_input": "2020-11-19T07:14:19.621656Z",
     "iopub.status.busy": "2020-11-19T07:14:19.620939Z",
     "iopub.status.idle": "2020-11-19T07:15:31.056314Z",
     "shell.execute_reply": "2020-11-19T07:15:31.056825Z"
    },
    "papermill": {
     "duration": 71.49643,
     "end_time": "2020-11-19T07:15:31.056982",
     "exception": false,
     "start_time": "2020-11-19T07:14:19.560552",
     "status": "completed"
    },
    "tags": []
   },
   "outputs": [
    {
     "data": {
      "text/plain": [
       "RandomizedSearchCV(cv=5, estimator=AdaBoostRegressor(), n_jobs=-1,\n",
       "                   param_distributions={'learning_rate': [0.1, 1, 3],\n",
       "                                        'loss': ['linear', 'square',\n",
       "                                                 'exponential'],\n",
       "                                        'n_estimators': [50, 100, 300, 500],\n",
       "                                        'random_state': [20, 101, 51]})"
      ]
     },
     "execution_count": 53,
     "metadata": {},
     "output_type": "execute_result"
    }
   ],
   "source": [
    "# Ada Boost Regressor\n",
    "\n",
    "estimator = AdaBoostRegressor()\n",
    "param_distributions = { \n",
    "            \"n_estimators\"      : [50,100,300,500],\n",
    "            \"loss\"              : [\"linear\", \"square\", \"exponential\"],\n",
    "            \"learning_rate\"     : [0.1,1,3],\n",
    "            \"random_state\"      : [20,101,51]\n",
    "            }\n",
    "abmodel = RandomizedSearchCV(estimator, param_distributions, n_jobs=-1, cv=5)\n",
    "abmodel.fit(x_train, y_train)"
   ]
  },
  {
   "cell_type": "code",
   "execution_count": 54,
   "metadata": {
    "execution": {
     "iopub.execute_input": "2020-11-19T07:15:31.170460Z",
     "iopub.status.busy": "2020-11-19T07:15:31.169753Z",
     "iopub.status.idle": "2020-11-19T07:15:31.469397Z",
     "shell.execute_reply": "2020-11-19T07:15:31.470161Z"
    },
    "papermill": {
     "duration": 0.359253,
     "end_time": "2020-11-19T07:15:31.470374",
     "exception": false,
     "start_time": "2020-11-19T07:15:31.111121",
     "status": "completed"
    },
    "tags": []
   },
   "outputs": [
    {
     "name": "stdout",
     "output_type": "stream",
     "text": [
      "Train Score:  0.5756443237464836\n",
      "=*=*=*=*=*=*=*=*=*=*=*=*=*=*=*=*=*=*=*=*\n",
      "Test Score:  0.5040804705094035\n"
     ]
    }
   ],
   "source": [
    "y_pred_tr = abmodel.predict(x_train)\n",
    "y_pred = abmodel.predict(x_test)\n",
    "\n",
    "print('Train Score: ',abmodel.score(x_train, y_train))\n",
    "print('=*=*=*=*=*=*=*=*=*=*=*=*=*=*=*=*=*=*=*=*')\n",
    "print('Test Score: ',abmodel.score(x_test, y_test))"
   ]
  },
  {
   "cell_type": "code",
   "execution_count": 55,
   "metadata": {
    "execution": {
     "iopub.execute_input": "2020-11-19T07:15:31.584486Z",
     "iopub.status.busy": "2020-11-19T07:15:31.583788Z",
     "iopub.status.idle": "2020-11-19T07:16:21.522254Z",
     "shell.execute_reply": "2020-11-19T07:16:21.522754Z"
    },
    "papermill": {
     "duration": 49.999178,
     "end_time": "2020-11-19T07:16:21.522901",
     "exception": false,
     "start_time": "2020-11-19T07:15:31.523723",
     "status": "completed"
    },
    "tags": []
   },
   "outputs": [
    {
     "data": {
      "text/plain": [
       "RandomizedSearchCV(cv=5, estimator=KNeighborsRegressor(), n_jobs=-1,\n",
       "                   param_distributions={'algorithm': ['auto', 'ball_tree',\n",
       "                                                      'kd_tree', 'brute'],\n",
       "                                        'n_neighbors': [5, 7, 9], 'p': [1, 2],\n",
       "                                        'weights': ['uniform', 'distance']})"
      ]
     },
     "execution_count": 55,
     "metadata": {},
     "output_type": "execute_result"
    }
   ],
   "source": [
    "# K-NeighborsRegressors\n",
    "\n",
    "estimator = KNeighborsRegressor()\n",
    "\n",
    "param_distributions = { \n",
    "            \"n_neighbors\"       : [5,7,9],\n",
    "            \"weights\"           : [\"uniform\", \"distance\"],\n",
    "            \"algorithm\"         : ['auto', 'ball_tree', 'kd_tree', 'brute'],\n",
    "            \"p\"                 : [1,2]\n",
    "            }\n",
    "knmodel = RandomizedSearchCV(estimator, param_distributions, n_jobs=-1, cv=5)\n",
    "knmodel.fit(x_train, y_train)"
   ]
  },
  {
   "cell_type": "code",
   "execution_count": 56,
   "metadata": {
    "execution": {
     "iopub.execute_input": "2020-11-19T07:16:21.641616Z",
     "iopub.status.busy": "2020-11-19T07:16:21.640893Z",
     "iopub.status.idle": "2020-11-19T07:17:03.609405Z",
     "shell.execute_reply": "2020-11-19T07:17:03.610286Z"
    },
    "papermill": {
     "duration": 42.030804,
     "end_time": "2020-11-19T07:17:03.610450",
     "exception": false,
     "start_time": "2020-11-19T07:16:21.579646",
     "status": "completed"
    },
    "tags": []
   },
   "outputs": [
    {
     "name": "stdout",
     "output_type": "stream",
     "text": [
      "Train Score:  0.853719746757936\n",
      "=*=*=*=*=*=*=*=*=*=*=*=*=*=*=*=*=*=*=*=*\n",
      "Test Score:  0.7138624448868335\n"
     ]
    }
   ],
   "source": [
    "y_pred_tr = knmodel.predict(x_train)\n",
    "y_pred = knmodel.predict(x_test)\n",
    "\n",
    "print('Train Score: ',knmodel.score(x_train, y_train))\n",
    "print('=*=*=*=*=*=*=*=*=*=*=*=*=*=*=*=*=*=*=*=*')\n",
    "print('Test Score: ',knmodel.score(x_test, y_test))"
   ]
  },
  {
   "cell_type": "code",
   "execution_count": 57,
   "metadata": {
    "execution": {
     "iopub.execute_input": "2020-11-19T07:17:03.728925Z",
     "iopub.status.busy": "2020-11-19T07:17:03.728294Z",
     "iopub.status.idle": "2020-11-19T07:20:05.056566Z",
     "shell.execute_reply": "2020-11-19T07:20:05.057125Z"
    },
    "papermill": {
     "duration": 181.391893,
     "end_time": "2020-11-19T07:20:05.057297",
     "exception": false,
     "start_time": "2020-11-19T07:17:03.665404",
     "status": "completed"
    },
    "tags": []
   },
   "outputs": [
    {
     "name": "stderr",
     "output_type": "stream",
     "text": [
      "/opt/conda/lib/python3.7/site-packages/joblib/externals/loky/process_executor.py:706: UserWarning: A worker stopped while some jobs were given to the executor. This can be caused by a too short worker timeout or by a memory leak.\n",
      "  \"timeout or by a memory leak.\", UserWarning\n"
     ]
    },
    {
     "data": {
      "text/plain": [
       "RandomizedSearchCV(cv=5, estimator=RandomForestRegressor(), n_jobs=-1,\n",
       "                   param_distributions={'bootstrap': [True, False],\n",
       "                                        'max_features': ['auto', 'sqrt',\n",
       "                                                         'log2'],\n",
       "                                        'min_samples_split': [2, 4, 8],\n",
       "                                        'n_estimators': [100, 300, 500]})"
      ]
     },
     "execution_count": 57,
     "metadata": {},
     "output_type": "execute_result"
    }
   ],
   "source": [
    "# Random Forest Regressor\n",
    "\n",
    "estimator = RandomForestRegressor()\n",
    "param_distributions = { \n",
    "            \"n_estimators\"      : [100,300,500],\n",
    "            \"max_features\"      : [\"auto\", \"sqrt\", \"log2\"],\n",
    "            \"min_samples_split\" : [2,4,8],\n",
    "            \"bootstrap\": [True,False],\n",
    "            }\n",
    "\n",
    "rfmodel = RandomizedSearchCV(estimator, param_distributions, n_jobs=-1, cv=5)\n",
    "rfmodel.fit(x_train, y_train)"
   ]
  },
  {
   "cell_type": "code",
   "execution_count": 58,
   "metadata": {
    "execution": {
     "iopub.execute_input": "2020-11-19T07:20:05.189358Z",
     "iopub.status.busy": "2020-11-19T07:20:05.188426Z",
     "iopub.status.idle": "2020-11-19T07:20:05.752169Z",
     "shell.execute_reply": "2020-11-19T07:20:05.753065Z"
    },
    "papermill": {
     "duration": 0.638822,
     "end_time": "2020-11-19T07:20:05.753302",
     "exception": false,
     "start_time": "2020-11-19T07:20:05.114480",
     "status": "completed"
    },
    "tags": []
   },
   "outputs": [
    {
     "name": "stdout",
     "output_type": "stream",
     "text": [
      "Train Score:  0.9454863950330326\n",
      "=*=*=*=*=*=*=*=*=*=*=*=*=*=*=*=*=*=*=*=*\n",
      "Test Score:  0.8047836059459303\n"
     ]
    }
   ],
   "source": [
    "y_pred_tr = rfmodel.predict(x_train)\n",
    "y_pred = rfmodel.predict(x_test)\n",
    "\n",
    "print('Train Score: ',rfmodel.score(x_train, y_train))\n",
    "print('=*=*=*=*=*=*=*=*=*=*=*=*=*=*=*=*=*=*=*=*')\n",
    "print('Test Score: ',rfmodel.score(x_test, y_test))"
   ]
  },
  {
   "cell_type": "code",
   "execution_count": 59,
   "metadata": {
    "execution": {
     "iopub.execute_input": "2020-11-19T07:20:05.884594Z",
     "iopub.status.busy": "2020-11-19T07:20:05.883813Z",
     "iopub.status.idle": "2020-11-19T07:24:02.239623Z",
     "shell.execute_reply": "2020-11-19T07:24:02.240365Z"
    },
    "papermill": {
     "duration": 236.429084,
     "end_time": "2020-11-19T07:24:02.240561",
     "exception": false,
     "start_time": "2020-11-19T07:20:05.811477",
     "status": "completed"
    },
    "tags": []
   },
   "outputs": [
    {
     "name": "stderr",
     "output_type": "stream",
     "text": [
      "/opt/conda/lib/python3.7/site-packages/joblib/externals/loky/process_executor.py:706: UserWarning: A worker stopped while some jobs were given to the executor. This can be caused by a too short worker timeout or by a memory leak.\n",
      "  \"timeout or by a memory leak.\", UserWarning\n"
     ]
    },
    {
     "data": {
      "text/plain": [
       "RandomizedSearchCV(cv=5,\n",
       "                   estimator=XGBRegressor(base_score=None, booster=None,\n",
       "                                          colsample_bylevel=None,\n",
       "                                          colsample_bynode=None,\n",
       "                                          colsample_bytree=None, gamma=None,\n",
       "                                          gpu_id=None, importance_type='gain',\n",
       "                                          interaction_constraints=None,\n",
       "                                          learning_rate=None,\n",
       "                                          max_delta_step=None, max_depth=None,\n",
       "                                          min_child_weight=None, missing=nan,\n",
       "                                          monotone_constraints=None,\n",
       "                                          n_estimators=100, n...\n",
       "                                          random_state=None, reg_alpha=None,\n",
       "                                          reg_lambda=None,\n",
       "                                          scale_pos_weight=None, subsample=None,\n",
       "                                          tree_method=None,\n",
       "                                          validate_parameters=None,\n",
       "                                          verbosity=None),\n",
       "                   n_jobs=-1,\n",
       "                   param_distributions={'alpha': [5, 10, 15],\n",
       "                                        'booster': ['gbtree', 'gblinear',\n",
       "                                                    'dart'],\n",
       "                                        'learning_rate': [0.01, 0.05, 0.1],\n",
       "                                        'max_depth': [4, 5, 6, 7],\n",
       "                                        'n_estimators': [100, 200, 300, 400,\n",
       "                                                         500],\n",
       "                                        'reg_lambda': [0.1, 1.0, 10.0]})"
      ]
     },
     "execution_count": 59,
     "metadata": {},
     "output_type": "execute_result"
    }
   ],
   "source": [
    "# XGBoost Regresor\n",
    "\n",
    "import xgboost as xgb\n",
    "xgmodel = xgb.XGBRegressor()\n",
    "\n",
    "param_distributions = {\n",
    "            'learning_rate'     : [0.01,0.05,0.1],\n",
    "            \"booster\"           : ['gbtree','gblinear','dart'],\n",
    "            'alpha'             : [5,10,15],\n",
    "            'reg_lambda'        : [0.1, 1.0, 10.0],\n",
    "            'max_depth'         : [4, 5, 6, 7],\n",
    "            'n_estimators'      : [100, 200, 300, 400, 500]\n",
    "            }\n",
    "xgmodel = RandomizedSearchCV(XGBRegressor(), param_distributions,cv=5, n_jobs=-1)\n",
    "xgmodel.fit(x_train, y_train)"
   ]
  },
  {
   "cell_type": "code",
   "execution_count": 60,
   "metadata": {
    "execution": {
     "iopub.execute_input": "2020-11-19T07:24:02.389107Z",
     "iopub.status.busy": "2020-11-19T07:24:02.388468Z",
     "iopub.status.idle": "2020-11-19T07:24:02.661722Z",
     "shell.execute_reply": "2020-11-19T07:24:02.662499Z"
    },
    "papermill": {
     "duration": 0.339393,
     "end_time": "2020-11-19T07:24:02.662689",
     "exception": false,
     "start_time": "2020-11-19T07:24:02.323296",
     "status": "completed"
    },
    "tags": []
   },
   "outputs": [
    {
     "name": "stdout",
     "output_type": "stream",
     "text": [
      "Train Score:  0.9006784581764118\n",
      "=*=*=*=*=*=*=*=*=*=*=*=*=*=*=*=*=*=*=*=*\n",
      "Test Score:  0.8233182299810176\n"
     ]
    }
   ],
   "source": [
    "y_pred_tr = xgmodel.predict(x_train)\n",
    "y_pred = xgmodel.predict(x_test)\n",
    "\n",
    "print('Train Score: ',xgmodel.score(x_train, y_train))\n",
    "print('=*=*=*=*=*=*=*=*=*=*=*=*=*=*=*=*=*=*=*=*')\n",
    "print('Test Score: ',xgmodel.score(x_test, y_test))"
   ]
  }
 ],
 "metadata": {
  "kernelspec": {
   "display_name": "Python 3",
   "language": "python",
   "name": "python3"
  },
  "language_info": {
   "codemirror_mode": {
    "name": "ipython",
    "version": 3
   },
   "file_extension": ".py",
   "mimetype": "text/x-python",
   "name": "python",
   "nbconvert_exporter": "python",
   "pygments_lexer": "ipython3",
   "version": "3.7.6"
  },
  "papermill": {
   "duration": 613.466718,
   "end_time": "2020-11-19T07:24:02.891537",
   "environment_variables": {},
   "exception": null,
   "input_path": "__notebook__.ipynb",
   "output_path": "__notebook__.ipynb",
   "parameters": {},
   "start_time": "2020-11-19T07:13:49.424819",
   "version": "2.1.0"
  }
 },
 "nbformat": 4,
 "nbformat_minor": 4
}
